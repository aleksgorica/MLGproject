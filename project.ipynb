{
  "cells": [
    {
      "cell_type": "code",
      "execution_count": 1,
      "metadata": {
        "colab": {
          "base_uri": "https://localhost:8080/"
        },
        "id": "rOrwITMZrs5p",
        "outputId": "2717e498-0861-433a-e73d-ac0f70fb109a"
      },
      "outputs": [
        {
          "name": "stdout",
          "output_type": "stream",
          "text": [
            "Requirement already satisfied: torch-geometric in c:\\users\\aljaz\\anaconda3\\envs\\mlg_env\\lib\\site-packages (2.2.0)\n",
            "Requirement already satisfied: jinja2 in c:\\users\\aljaz\\anaconda3\\envs\\mlg_env\\lib\\site-packages (from torch-geometric) (3.1.2)\n",
            "Requirement already satisfied: psutil>=5.8.0 in c:\\users\\aljaz\\appdata\\roaming\\python\\python310\\site-packages (from torch-geometric) (5.9.4)\n",
            "Requirement already satisfied: scikit-learn in c:\\users\\aljaz\\anaconda3\\envs\\mlg_env\\lib\\site-packages (from torch-geometric) (1.2.1)\n",
            "Requirement already satisfied: requests in c:\\users\\aljaz\\anaconda3\\envs\\mlg_env\\lib\\site-packages (from torch-geometric) (2.28.1)\n",
            "Requirement already satisfied: tqdm in c:\\users\\aljaz\\anaconda3\\envs\\mlg_env\\lib\\site-packages (from torch-geometric) (4.64.1)\n",
            "Requirement already satisfied: pyparsing in c:\\users\\aljaz\\anaconda3\\envs\\mlg_env\\lib\\site-packages (from torch-geometric) (3.0.9)\n",
            "Requirement already satisfied: numpy in c:\\users\\aljaz\\anaconda3\\envs\\mlg_env\\lib\\site-packages (from torch-geometric) (1.23.5)\n",
            "Requirement already satisfied: scipy in c:\\users\\aljaz\\anaconda3\\envs\\mlg_env\\lib\\site-packages (from torch-geometric) (1.9.3)\n",
            "Requirement already satisfied: MarkupSafe>=2.0 in c:\\users\\aljaz\\anaconda3\\envs\\mlg_env\\lib\\site-packages (from jinja2->torch-geometric) (2.1.1)\n",
            "Requirement already satisfied: charset-normalizer<3,>=2 in c:\\users\\aljaz\\anaconda3\\envs\\mlg_env\\lib\\site-packages (from requests->torch-geometric) (2.0.4)\n",
            "Requirement already satisfied: idna<4,>=2.5 in c:\\users\\aljaz\\anaconda3\\envs\\mlg_env\\lib\\site-packages (from requests->torch-geometric) (3.4)\n",
            "Requirement already satisfied: certifi>=2017.4.17 in c:\\users\\aljaz\\anaconda3\\envs\\mlg_env\\lib\\site-packages (from requests->torch-geometric) (2022.12.7)\n",
            "Requirement already satisfied: urllib3<1.27,>=1.21.1 in c:\\users\\aljaz\\anaconda3\\envs\\mlg_env\\lib\\site-packages (from requests->torch-geometric) (1.26.14)\n",
            "Requirement already satisfied: threadpoolctl>=2.0.0 in c:\\users\\aljaz\\anaconda3\\envs\\mlg_env\\lib\\site-packages (from scikit-learn->torch-geometric) (3.1.0)\n",
            "Requirement already satisfied: joblib>=1.1.1 in c:\\users\\aljaz\\anaconda3\\envs\\mlg_env\\lib\\site-packages (from scikit-learn->torch-geometric) (1.2.0)\n",
            "Requirement already satisfied: colorama in c:\\users\\aljaz\\appdata\\roaming\\python\\python310\\site-packages (from tqdm->torch-geometric) (0.4.6)\n",
            "Looking in links: https://data.pyg.org/whl/torch-1.13.1+cu116.html\n",
            "Requirement already satisfied: torch-scatter in c:\\users\\aljaz\\anaconda3\\envs\\mlg_env\\lib\\site-packages (2.1.0+pt113cu116)\n",
            "Looking in links: https://data.pyg.org/whl/torch-1.13.1+cu116.html\n",
            "Requirement already satisfied: torch-sparse in c:\\users\\aljaz\\anaconda3\\envs\\mlg_env\\lib\\site-packages (0.6.16+pt113cu116)\n",
            "Requirement already satisfied: scipy in c:\\users\\aljaz\\anaconda3\\envs\\mlg_env\\lib\\site-packages (from torch-sparse) (1.9.3)\n",
            "Requirement already satisfied: numpy<1.26.0,>=1.18.5 in c:\\users\\aljaz\\anaconda3\\envs\\mlg_env\\lib\\site-packages (from scipy->torch-sparse) (1.23.5)\n",
            "Requirement already satisfied: seaborn in c:\\users\\aljaz\\anaconda3\\envs\\mlg_env\\lib\\site-packages (0.12.2)\n",
            "Requirement already satisfied: optuna in c:\\users\\aljaz\\anaconda3\\envs\\mlg_env\\lib\\site-packages (3.1.0)\n",
            "Requirement already satisfied: matplotlib!=3.6.1,>=3.1 in c:\\users\\aljaz\\anaconda3\\envs\\mlg_env\\lib\\site-packages (from seaborn) (3.6.2)\n",
            "Requirement already satisfied: pandas>=0.25 in c:\\users\\aljaz\\anaconda3\\envs\\mlg_env\\lib\\site-packages (from seaborn) (1.5.3)\n",
            "Requirement already satisfied: numpy!=1.24.0,>=1.17 in c:\\users\\aljaz\\anaconda3\\envs\\mlg_env\\lib\\site-packages (from seaborn) (1.23.5)\n",
            "Requirement already satisfied: alembic>=1.5.0 in c:\\users\\aljaz\\anaconda3\\envs\\mlg_env\\lib\\site-packages (from optuna) (1.10.2)\n",
            "Requirement already satisfied: colorlog in c:\\users\\aljaz\\anaconda3\\envs\\mlg_env\\lib\\site-packages (from optuna) (6.7.0)\n",
            "Requirement already satisfied: packaging>=20.0 in c:\\users\\aljaz\\appdata\\roaming\\python\\python310\\site-packages (from optuna) (22.0)\n",
            "Requirement already satisfied: tqdm in c:\\users\\aljaz\\anaconda3\\envs\\mlg_env\\lib\\site-packages (from optuna) (4.64.1)\n",
            "Requirement already satisfied: cmaes>=0.9.1 in c:\\users\\aljaz\\anaconda3\\envs\\mlg_env\\lib\\site-packages (from optuna) (0.9.1)\n",
            "Requirement already satisfied: sqlalchemy>=1.3.0 in c:\\users\\aljaz\\anaconda3\\envs\\mlg_env\\lib\\site-packages (from optuna) (2.0.7)\n",
            "Requirement already satisfied: PyYAML in c:\\users\\aljaz\\anaconda3\\envs\\mlg_env\\lib\\site-packages (from optuna) (6.0)\n",
            "Requirement already satisfied: Mako in c:\\users\\aljaz\\anaconda3\\envs\\mlg_env\\lib\\site-packages (from alembic>=1.5.0->optuna) (1.2.4)\n",
            "Requirement already satisfied: typing-extensions>=4 in c:\\users\\aljaz\\anaconda3\\envs\\mlg_env\\lib\\site-packages (from alembic>=1.5.0->optuna) (4.4.0)\n",
            "Requirement already satisfied: contourpy>=1.0.1 in c:\\users\\aljaz\\anaconda3\\envs\\mlg_env\\lib\\site-packages (from matplotlib!=3.6.1,>=3.1->seaborn) (1.0.5)\n",
            "Requirement already satisfied: pyparsing>=2.2.1 in c:\\users\\aljaz\\anaconda3\\envs\\mlg_env\\lib\\site-packages (from matplotlib!=3.6.1,>=3.1->seaborn) (3.0.9)\n",
            "Requirement already satisfied: cycler>=0.10 in c:\\users\\aljaz\\anaconda3\\envs\\mlg_env\\lib\\site-packages (from matplotlib!=3.6.1,>=3.1->seaborn) (0.11.0)\n",
            "Requirement already satisfied: python-dateutil>=2.7 in c:\\users\\aljaz\\appdata\\roaming\\python\\python310\\site-packages (from matplotlib!=3.6.1,>=3.1->seaborn) (2.8.2)\n",
            "Requirement already satisfied: kiwisolver>=1.0.1 in c:\\users\\aljaz\\anaconda3\\envs\\mlg_env\\lib\\site-packages (from matplotlib!=3.6.1,>=3.1->seaborn) (1.4.4)\n",
            "Requirement already satisfied: pillow>=6.2.0 in c:\\users\\aljaz\\anaconda3\\envs\\mlg_env\\lib\\site-packages (from matplotlib!=3.6.1,>=3.1->seaborn) (9.3.0)\n",
            "Requirement already satisfied: fonttools>=4.22.0 in c:\\users\\aljaz\\anaconda3\\envs\\mlg_env\\lib\\site-packages (from matplotlib!=3.6.1,>=3.1->seaborn) (4.25.0)\n",
            "Requirement already satisfied: pytz>=2020.1 in c:\\users\\aljaz\\anaconda3\\envs\\mlg_env\\lib\\site-packages (from pandas>=0.25->seaborn) (2022.7)\n",
            "Requirement already satisfied: greenlet!=0.4.17 in c:\\users\\aljaz\\anaconda3\\envs\\mlg_env\\lib\\site-packages (from sqlalchemy>=1.3.0->optuna) (2.0.2)\n",
            "Requirement already satisfied: colorama in c:\\users\\aljaz\\appdata\\roaming\\python\\python310\\site-packages (from colorlog->optuna) (0.4.6)\n",
            "Requirement already satisfied: six>=1.5 in c:\\users\\aljaz\\appdata\\roaming\\python\\python310\\site-packages (from python-dateutil>=2.7->matplotlib!=3.6.1,>=3.1->seaborn) (1.16.0)\n",
            "Requirement already satisfied: MarkupSafe>=0.9.2 in c:\\users\\aljaz\\anaconda3\\envs\\mlg_env\\lib\\site-packages (from Mako->alembic>=1.5.0->optuna) (2.1.1)\n"
          ]
        }
      ],
      "source": [
        "# Install dependencies\n",
        "!pip install torch-geometric\n",
        "!pip install torch-scatter -f https://data.pyg.org/whl/torch-1.13.1+cu116.html\n",
        "!pip install torch-sparse -f https://data.pyg.org/whl/torch-1.13.1+cu116.html\n",
        "!pip install seaborn optuna\n"
      ]
    },
    {
      "cell_type": "code",
      "execution_count": 2,
      "metadata": {
        "colab": {
          "base_uri": "https://localhost:8080/"
        },
        "id": "WlouYBm0r2aq",
        "outputId": "570c2a4c-d790-4d1e-90e0-8c0be04fb0d6"
      },
      "outputs": [
        {
          "name": "stdout",
          "output_type": "stream",
          "text": [
            "1.13.1\n",
            "2.2.0\n",
            "Running on cuda\n"
          ]
        }
      ],
      "source": [
        "# Import dependencies, check versions\n",
        "import torch_geometric\n",
        "import pandas as pd\n",
        "import torch\n",
        "import os\n",
        "import networkx as nx\n",
        "import matplotlib.pyplot as plt\n",
        "import numpy as np\n",
        "from sklearn.preprocessing import StandardScaler\n",
        "# And some typing for code completion\n",
        "from typing import Dict, List, Tuple, Union, Optional\n",
        "\n",
        "print(torch.__version__)\n",
        "print(torch_geometric.__version__)\n",
        "device = torch.device('cuda' if torch.cuda.is_available() else 'cpu')\n",
        "print(\"Running on\", device)\n",
        "\n",
        "\"\"\"\n",
        "Should be:\n",
        "1.13.1\n",
        "2.2.0\n",
        "\"\"\"\n",
        "pass\n"
      ]
    },
    {
      "cell_type": "code",
      "execution_count": 4,
      "metadata": {
        "colab": {
          "base_uri": "https://localhost:8080/"
        },
        "id": "QaTgQy8hkMcW",
        "outputId": "c634f0c8-07b9-4fa9-9f01-b96c5ac308b3"
      },
      "outputs": [
        {
          "name": "stdout",
          "output_type": "stream",
          "text": [
            "DATA_PATH:  C:\\Faks\\MLG\\MLGproject\\dataset\\elliptic_bitcoin_dataset\n"
          ]
        }
      ],
      "source": [
        "# Dataset location\n",
        "os.environ['DATASET_PATH'] = r'C:\\Faks\\MLG\\MLGproject\\dataset\\elliptic_bitcoin_dataset' # Uncomment this to add own path\n",
        "is_running_from_local = 'DATASET_PATH' in os.environ\n",
        "if is_running_from_local:\n",
        "    print('DATA_PATH: ', os.environ['DATASET_PATH'])\n",
        "    DATASET_PATH = os.environ['DATASET_PATH']\n",
        "else:\n",
        "    from google.colab import drive\n",
        "    drive.mount('/content/drive')  # Check: !ls drive/MyDrive/\n",
        "    DATASET_PATH = 'drive/MyDrive/elliptic_bitcoin_dataset/'\n",
        "    print(\"Reading from Google Colab\")\n",
        "    print('DATA_PATH: ', DATASET_PATH)\n"
      ]
    },
    {
      "cell_type": "code",
      "execution_count": 5,
      "metadata": {
        "colab": {
          "base_uri": "https://localhost:8080/",
          "height": 455
        },
        "id": "GYN40d1dquDe",
        "outputId": "cb9aa6ff-ad82-4a44-bdb5-b9f3925d1ecb"
      },
      "outputs": [
        {
          "data": {
            "text/html": [
              "<div>\n",
              "<style scoped>\n",
              "    .dataframe tbody tr th:only-of-type {\n",
              "        vertical-align: middle;\n",
              "    }\n",
              "\n",
              "    .dataframe tbody tr th {\n",
              "        vertical-align: top;\n",
              "    }\n",
              "\n",
              "    .dataframe thead th {\n",
              "        text-align: right;\n",
              "    }\n",
              "</style>\n",
              "<table border=\"1\" class=\"dataframe\">\n",
              "  <thead>\n",
              "    <tr style=\"text-align: right;\">\n",
              "      <th></th>\n",
              "      <th></th>\n",
              "      <th>2</th>\n",
              "      <th>3</th>\n",
              "      <th>4</th>\n",
              "      <th>5</th>\n",
              "    </tr>\n",
              "    <tr>\n",
              "      <th>timestamp</th>\n",
              "      <th>txId</th>\n",
              "      <th></th>\n",
              "      <th></th>\n",
              "      <th></th>\n",
              "      <th></th>\n",
              "    </tr>\n",
              "  </thead>\n",
              "  <tbody>\n",
              "    <tr>\n",
              "      <th rowspan=\"5\" valign=\"top\">1</th>\n",
              "      <th>230425980</th>\n",
              "      <td>-0.171469</td>\n",
              "      <td>-0.184668</td>\n",
              "      <td>-1.201369</td>\n",
              "      <td>-0.121970</td>\n",
              "    </tr>\n",
              "    <tr>\n",
              "      <th>5530458</th>\n",
              "      <td>-0.171484</td>\n",
              "      <td>-0.184668</td>\n",
              "      <td>-1.201369</td>\n",
              "      <td>-0.121970</td>\n",
              "    </tr>\n",
              "    <tr>\n",
              "      <th>232022460</th>\n",
              "      <td>-0.172107</td>\n",
              "      <td>-0.184668</td>\n",
              "      <td>-1.201369</td>\n",
              "      <td>-0.121970</td>\n",
              "    </tr>\n",
              "    <tr>\n",
              "      <th>232438397</th>\n",
              "      <td>0.163054</td>\n",
              "      <td>1.963790</td>\n",
              "      <td>-0.646376</td>\n",
              "      <td>12.409294</td>\n",
              "    </tr>\n",
              "    <tr>\n",
              "      <th>230460314</th>\n",
              "      <td>1.011523</td>\n",
              "      <td>-0.081127</td>\n",
              "      <td>-1.201369</td>\n",
              "      <td>1.153668</td>\n",
              "    </tr>\n",
              "    <tr>\n",
              "      <th>...</th>\n",
              "      <th>...</th>\n",
              "      <td>...</td>\n",
              "      <td>...</td>\n",
              "      <td>...</td>\n",
              "      <td>...</td>\n",
              "    </tr>\n",
              "    <tr>\n",
              "      <th rowspan=\"5\" valign=\"top\">49</th>\n",
              "      <th>173077460</th>\n",
              "      <td>-0.145771</td>\n",
              "      <td>-0.163752</td>\n",
              "      <td>0.463609</td>\n",
              "      <td>-0.121970</td>\n",
              "    </tr>\n",
              "    <tr>\n",
              "      <th>158577750</th>\n",
              "      <td>-0.165920</td>\n",
              "      <td>-0.123607</td>\n",
              "      <td>1.018602</td>\n",
              "      <td>-0.121970</td>\n",
              "    </tr>\n",
              "    <tr>\n",
              "      <th>158375402</th>\n",
              "      <td>-0.172014</td>\n",
              "      <td>-0.078182</td>\n",
              "      <td>1.018602</td>\n",
              "      <td>0.028105</td>\n",
              "    </tr>\n",
              "    <tr>\n",
              "      <th>158654197</th>\n",
              "      <td>-0.172842</td>\n",
              "      <td>-0.176622</td>\n",
              "      <td>1.018602</td>\n",
              "      <td>-0.121970</td>\n",
              "    </tr>\n",
              "    <tr>\n",
              "      <th>157597225</th>\n",
              "      <td>-0.012037</td>\n",
              "      <td>-0.132276</td>\n",
              "      <td>0.463609</td>\n",
              "      <td>-0.121970</td>\n",
              "    </tr>\n",
              "  </tbody>\n",
              "</table>\n",
              "<p>203769 rows × 4 columns</p>\n",
              "</div>"
            ],
            "text/plain": [
              "                            2         3         4          5\n",
              "timestamp txId                                              \n",
              "1         230425980 -0.171469 -0.184668 -1.201369  -0.121970\n",
              "          5530458   -0.171484 -0.184668 -1.201369  -0.121970\n",
              "          232022460 -0.172107 -0.184668 -1.201369  -0.121970\n",
              "          232438397  0.163054  1.963790 -0.646376  12.409294\n",
              "          230460314  1.011523 -0.081127 -1.201369   1.153668\n",
              "...                       ...       ...       ...        ...\n",
              "49        173077460 -0.145771 -0.163752  0.463609  -0.121970\n",
              "          158577750 -0.165920 -0.123607  1.018602  -0.121970\n",
              "          158375402 -0.172014 -0.078182  1.018602   0.028105\n",
              "          158654197 -0.172842 -0.176622  1.018602  -0.121970\n",
              "          157597225 -0.012037 -0.132276  0.463609  -0.121970\n",
              "\n",
              "[203769 rows x 4 columns]"
            ]
          },
          "metadata": {},
          "output_type": "display_data"
        }
      ],
      "source": [
        "# Reading data to DataFrames\n",
        "classes = pd.read_csv(\n",
        "    f\"{DATASET_PATH}/elliptic_txs_classes.csv\", index_col=\"txId\")\n",
        "edgelist = pd.read_csv(\n",
        "    f\"{DATASET_PATH}/elliptic_txs_edgelist.csv\")\n",
        "\n",
        "# index is on top level timestamp, second level txId\n",
        "features = pd.read_csv(\n",
        "    f\"{DATASET_PATH}/elliptic_txs_features.csv\", header=None, index_col=[1, 0])\n",
        "features.index.names = ['timestamp', 'txId']\n",
        "\n",
        "# That way, features are sorted by timestamp, as sample of first 5 columns shows:\n",
        "display(features.loc[:, :5])\n",
        "\n",
        "# TODO! Feature statistic/normalization"
      ]
    },
    {
      "cell_type": "code",
      "execution_count": 6,
      "metadata": {
        "id": "xU1ZHeSWynNS"
      },
      "outputs": [],
      "source": [
        "import seaborn as sns\n",
        "sns.set_theme()"
      ]
    },
    {
      "cell_type": "code",
      "execution_count": 7,
      "metadata": {
        "colab": {
          "base_uri": "https://localhost:8080/",
          "height": 402
        },
        "id": "xjdqKw1Zx2yH",
        "outputId": "a89f8479-deb8-4405-ba68-fc0fe3e12d0c"
      },
      "outputs": [
        {
          "data": {
            "image/png": "[encoded data removed]",
            "text/plain": [
              "<Figure size 1800x900 with 2 Axes>"
            ]
          },
          "metadata": {},
          "output_type": "display_data"
        }
      ],
      "source": [
        "# feature normalization (mean = 0 && variance = 1)\n",
        "\n",
        "# create the scaler object\n",
        "scaler = StandardScaler(with_mean=False).set_output(transform=\"pandas\")\n",
        "\n",
        "# fit the scaler on the features\n",
        "# normalize the features\n",
        "normalize_features = scaler.fit_transform(features)\n",
        "\n",
        "# Calculate the mean and variance of each feature\n",
        "mean = features.mean()\n",
        "variance = normalize_features.var()\n",
        "\n",
        "# Plot the mean and variance of each feature\n",
        "plt.figure(figsize=(18, 9))\n",
        "plt.subplot(1, 2, 1)\n",
        "mean.plot.barh(y='mean')\n",
        "plt.title('Mean of Normalized Features')\n",
        "plt.subplot(1, 2, 2)\n",
        "variance.plot.barh(y='variance')\n",
        "plt.title('Variance of Normalized Features')\n",
        "plt.tight_layout()\n",
        "plt.show()\n",
        "\n",
        "# TODO: we need somekind of a system to choose wheter we use normalized or original features for learning\n",
        "# is visualization even required? it only shows that mean and var are actually what they need to be (interesting is that we have numerical errors visible at mean)"
      ]
    },
    {
      "cell_type": "code",
      "execution_count": 8,
      "metadata": {
        "colab": {
          "base_uri": "https://localhost:8080/"
        },
        "id": "8UkfV_pRYjFz",
        "outputId": "24d74cf6-840e-4586-eff2-32a7177ad795"
      },
      "outputs": [
        {
          "name": "stdout",
          "output_type": "stream",
          "text": [
            "nx.is_directed(directed_graph)=True\n"
          ]
        }
      ],
      "source": [
        "# Defining target classes\n",
        "# Initial graph should be directed\n",
        "directed_graph = nx.from_pandas_edgelist(\n",
        "    edgelist, source='txId1', target='txId2', create_using=nx.DiGraph())\n",
        "print(f\"{nx.is_directed(directed_graph)=}\")\n",
        "\n",
        "\n",
        "ID_ILLICIT = 0  # Fraud\n",
        "ID_LICIT = 1  # Legiet\n",
        "ID_UNLABELED = 2 # Unknown\n",
        "\n",
        "classes['y'] = classes['class'].replace(\n",
        "    {'unknown': ID_UNLABELED, '1': ID_ILLICIT, '2': ID_LICIT})\n",
        "class_mapping = classes[['y']].to_dict(\"dict\")['y']\n",
        "\n",
        "keys = features.index.get_level_values(1)\n",
        "rows = torch.tensor(features.values, dtype=torch.double, device=device)\n",
        "feature_mapping = dict(zip(keys, rows))\n"
      ]
    },
    {
      "cell_type": "code",
      "execution_count": 9,
      "metadata": {
        "id": "nqlSXsD8g7og"
      },
      "outputs": [],
      "source": [
        "# Subgraph splitting\n",
        "timestamps = features.index.get_level_values(\n",
        "    0).unique().sort_values().to_list()\n",
        "ts_Tid_df = features.index.to_frame(index=False)\n",
        "dataset = []\n",
        "for ts in timestamps:\n",
        "    # Get all txIds for a given timestamp\n",
        "    sub_graph_idx = ts_Tid_df[ts_Tid_df.timestamp == ts].txId.to_list()\n",
        "    # Create subgraph from the original graph\n",
        "    s = directed_graph.subgraph(sub_graph_idx)\n",
        "    nx.set_node_attributes(s, class_mapping, \"y\")\n",
        "    nx.set_node_attributes(s, feature_mapping, \"x\")\n",
        "\n",
        "    dataset.append(s)\n",
        "\n",
        "# Takes ~20sec to run\n"
      ]
    },
    {
      "cell_type": "code",
      "execution_count": 10,
      "metadata": {
        "colab": {
          "base_uri": "https://localhost:8080/",
          "height": 325
        },
        "id": "rZv3eqeDmf4d",
        "outputId": "51bc6275-6bff-4664-aacd-b05587e02932"
      },
      "outputs": [
        {
          "data": {
            "image/png": "[encoded data removed]",
            "text/plain": [
              "<Figure size 1200x500 with 2 Axes>"
            ]
          },
          "metadata": {},
          "output_type": "display_data"
        }
      ],
      "source": [
        "# Vertex/Edge count\n",
        "node_dict = {i: len(subgraph.nodes) for i, subgraph in enumerate(dataset)}\n",
        "edge_dict = {i: len(subgraph.edges) for i, subgraph in enumerate(dataset)}\n",
        "\n",
        "# using seaborn implementation\n",
        "fig, axes = plt.subplots(1, 2, sharex=True, figsize=(12,5))\n",
        "node_indices = list(node_dict.keys())\n",
        "node_count = list(node_dict.values())\n",
        "nodes_graph = sns.barplot(ax=axes[0], x=node_indices, y=node_count, palette=\"ch:.25\")\n",
        "nodes_graph.set(xticklabels=[])\n",
        "nodes_graph.set_title(\"Number of nodes per subgraph\")\n",
        "\n",
        "edge_indices = list(edge_dict.keys())\n",
        "edge_count = list(edge_dict.values())\n",
        "edge_graph = sns.barplot(ax=axes[1], x=node_indices, y=node_count, palette=\"ch:.25\")\n",
        "edge_graph.set(xticklabels=[])\n",
        "_x = edge_graph.set_title(\"Number of edges per subgraph\")\n"
      ]
    },
    {
      "cell_type": "code",
      "execution_count": 11,
      "metadata": {
        "colab": {
          "base_uri": "https://localhost:8080/",
          "height": 1000
        },
        "id": "6XEfl4Qn4aqH",
        "outputId": "03a093e1-0a55-43ff-96b6-3e2057d6ad79"
      },
      "outputs": [
        {
          "ename": "TypeError",
          "evalue": "'_AxesStack' object is not callable",
          "output_type": "error",
          "traceback": [
            "\u001b[1;31m---------------------------------------------------------------------------\u001b[0m",
            "\u001b[1;31mTypeError\u001b[0m                                 Traceback (most recent call last)",
            "Cell \u001b[1;32mIn[11], line 13\u001b[0m\n\u001b[0;32m     10\u001b[0m colors_full \u001b[39m=\u001b[39m [color_map[attrs[\u001b[39m\"\u001b[39m\u001b[39my\u001b[39m\u001b[39m\"\u001b[39m]] \u001b[39mfor\u001b[39;00m _, attrs \u001b[39min\u001b[39;00m smallest_subgraph\u001b[39m.\u001b[39mnodes(data\u001b[39m=\u001b[39m\u001b[39mTrue\u001b[39;00m)]\n\u001b[0;32m     12\u001b[0m fig1 \u001b[39m=\u001b[39m plt\u001b[39m.\u001b[39mfigure(figsize\u001b[39m=\u001b[39m(\u001b[39m10\u001b[39m,\u001b[39m10\u001b[39m)) \n\u001b[1;32m---> 13\u001b[0m nx\u001b[39m.\u001b[39;49mdraw_random(labeled_graph, node_color\u001b[39m=\u001b[39;49mcolors_labled, node_size\u001b[39m=\u001b[39;49m\u001b[39m250\u001b[39;49m, linewidths\u001b[39m=\u001b[39;49m\u001b[39m5\u001b[39;49m, edge_color\u001b[39m=\u001b[39;49m\u001b[39m\"\u001b[39;49m\u001b[39mblack\u001b[39;49m\u001b[39m\"\u001b[39;49m, alpha\u001b[39m=\u001b[39;49m\u001b[39m0.5\u001b[39;49m)\n\u001b[0;32m     15\u001b[0m fig2 \u001b[39m=\u001b[39m plt\u001b[39m.\u001b[39mfigure(figsize\u001b[39m=\u001b[39m(\u001b[39m10\u001b[39m,\u001b[39m10\u001b[39m))\n\u001b[0;32m     16\u001b[0m nx\u001b[39m.\u001b[39mdraw(smallest_subgraph, node_color\u001b[39m=\u001b[39mcolors_full, node_size\u001b[39m=\u001b[39m\u001b[39m30\u001b[39m, linewidths\u001b[39m=\u001b[39m\u001b[39m2\u001b[39m, edge_color\u001b[39m=\u001b[39m\u001b[39m\"\u001b[39m\u001b[39mblack\u001b[39m\u001b[39m\"\u001b[39m, alpha\u001b[39m=\u001b[39m\u001b[39m0.5\u001b[39m)\n",
            "File \u001b[1;32mc:\\Users\\aljaz\\anaconda3\\envs\\mlg_env\\lib\\site-packages\\networkx\\drawing\\nx_pylab.py:1287\u001b[0m, in \u001b[0;36mdraw_random\u001b[1;34m(G, **kwargs)\u001b[0m\n\u001b[0;32m   1256\u001b[0m \u001b[39mdef\u001b[39;00m \u001b[39mdraw_random\u001b[39m(G, \u001b[39m*\u001b[39m\u001b[39m*\u001b[39mkwargs):\n\u001b[0;32m   1257\u001b[0m     \u001b[39m\"\"\"Draw the graph `G` with a random layout.\u001b[39;00m\n\u001b[0;32m   1258\u001b[0m \n\u001b[0;32m   1259\u001b[0m \u001b[39m    This is a convenience function equivalent to::\u001b[39;00m\n\u001b[1;32m   (...)\u001b[0m\n\u001b[0;32m   1285\u001b[0m \u001b[39m    :func:`~networkx.drawing.layout.random_layout`\u001b[39;00m\n\u001b[0;32m   1286\u001b[0m \u001b[39m    \"\"\"\u001b[39;00m\n\u001b[1;32m-> 1287\u001b[0m     draw(G, random_layout(G), \u001b[39m*\u001b[39m\u001b[39m*\u001b[39mkwargs)\n",
            "File \u001b[1;32mc:\\Users\\aljaz\\anaconda3\\envs\\mlg_env\\lib\\site-packages\\networkx\\drawing\\nx_pylab.py:113\u001b[0m, in \u001b[0;36mdraw\u001b[1;34m(G, pos, ax, **kwds)\u001b[0m\n\u001b[0;32m    111\u001b[0m cf\u001b[39m.\u001b[39mset_facecolor(\u001b[39m\"\u001b[39m\u001b[39mw\u001b[39m\u001b[39m\"\u001b[39m)\n\u001b[0;32m    112\u001b[0m \u001b[39mif\u001b[39;00m ax \u001b[39mis\u001b[39;00m \u001b[39mNone\u001b[39;00m:\n\u001b[1;32m--> 113\u001b[0m     \u001b[39mif\u001b[39;00m cf\u001b[39m.\u001b[39;49m_axstack() \u001b[39mis\u001b[39;00m \u001b[39mNone\u001b[39;00m:\n\u001b[0;32m    114\u001b[0m         ax \u001b[39m=\u001b[39m cf\u001b[39m.\u001b[39madd_axes((\u001b[39m0\u001b[39m, \u001b[39m0\u001b[39m, \u001b[39m1\u001b[39m, \u001b[39m1\u001b[39m))\n\u001b[0;32m    115\u001b[0m     \u001b[39melse\u001b[39;00m:\n",
            "\u001b[1;31mTypeError\u001b[0m: '_AxesStack' object is not callable"
          ]
        },
        {
          "data": {
            "text/plain": [
              "<Figure size 1000x1000 with 0 Axes>"
            ]
          },
          "metadata": {},
          "output_type": "display_data"
        }
      ],
      "source": [
        "# Displaying the smallest subgraph\n",
        "min_idx = min(node_dict, key=node_dict.get)\n",
        "smallest_subgraph = dataset[min_idx]\n",
        "labeled_nodes = [x for x,y in smallest_subgraph.nodes(data=True) if y['y']!=ID_UNLABELED]\n",
        "labeled_graph = nx.induced_subgraph(smallest_subgraph, labeled_nodes)\n",
        "\n",
        "palette = sns.color_palette(\"husl\", 8)\n",
        "color_map = {ID_UNLABELED: \"gray\", ID_LICIT: palette[2], ID_ILLICIT: palette[5]}\n",
        "colors_labled = [color_map[attrs[\"y\"]] for _, attrs in labeled_graph.nodes(data=True)]\n",
        "colors_full = [color_map[attrs[\"y\"]] for _, attrs in smallest_subgraph.nodes(data=True)]\n",
        "\n",
        "fig1 = plt.figure(figsize=(10,10)) \n",
        "nx.draw_random(labeled_graph, node_color=colors_labled, node_size=250, linewidths=5, edge_color=\"black\", alpha=0.5)\n",
        "\n",
        "fig2 = plt.figure(figsize=(10,10))\n",
        "nx.draw(smallest_subgraph, node_color=colors_full, node_size=30, linewidths=2, edge_color=\"black\", alpha=0.5)\n",
        "\n",
        "_x = fig1.suptitle(\"Graph with the smallest number of nodes: LABELED\")\n",
        "_x = fig2.suptitle(\"Graph with the smallest number of nodes: UNLABELED\")\n"
      ]
    },
    {
      "cell_type": "code",
      "execution_count": 12,
      "metadata": {
        "colab": {
          "base_uri": "https://localhost:8080/",
          "height": 418
        },
        "id": "bQMw-KaQytJP",
        "outputId": "f3e360fb-4a3b-454f-f0c5-6c9b0ec8bd69"
      },
      "outputs": [
        {
          "data": {
            "image/png": "[encoded data removed]",
            "text/plain": [
              "<Figure size 1800x900 with 3 Axes>"
            ]
          },
          "metadata": {},
          "output_type": "display_data"
        }
      ],
      "source": [
        "# some graph analysis\n",
        "node_counter = np.array(list(node_dict.values()))\n",
        "edge_counter = np.array(list(edge_dict.values()))\n",
        "# a ma avg_degree sploh smisel, glede na to da so to transakcije? čeprov ne vem zakaj bi eni nodi mel degree > 2\n",
        "avg_degree = np.round(2 * (edge_counter) / (node_counter))\n",
        "avg_cluster_coef = np.round([nx.average_clustering(subgraph) for subgraph in dataset], 5)\n",
        "no_of_classes = [np.bincount([attrs[\"y\"] for _, attrs in subgraph.nodes(data=True)]) for subgraph in dataset]\n",
        "avg_node_class = np.mean([[i / sum(x) for i in x]for x in no_of_classes], axis=0)\n",
        "# print(\"average degrees:\", avg_degree)\n",
        "# print(\"average clustering coefficients:\", avg_cluster_coef)\n",
        "# print(\"number of nodes of each class in each of the subgraphs:\", no_of_classes)\n",
        "\n",
        "plt.figure(figsize=(18, 9))\n",
        "plt.subplot(1, 3, 1)\n",
        "plt.bar(np.arange(len(dataset)), avg_degree)\n",
        "plt.title(\"Average node degree per subgraph\")\n",
        "\n",
        "plt.subplot(1, 3, 2)\n",
        "plt.bar(np.arange(len(dataset)), avg_cluster_coef)\n",
        "plt.title(\"Average clustering coefficient per subgraph\")\n",
        "\n",
        "plt.subplot(1, 3, 3)\n",
        "plt.bar([\"illicit\", \"licit\", \"unknown\"], avg_node_class)\n",
        "plt.title(\"Average nodes of each class\")\n",
        "\n",
        "plt.show()\n",
        "#todo: use Nina's sns configuration for histograms. (nimam zdele časa, grem na faks)"
      ]
    },
    {
      "cell_type": "code",
      "execution_count": 13,
      "metadata": {
        "id": "Iw-IdNDOM_8y"
      },
      "outputs": [],
      "source": [
        "# Model definition\n",
        "from torch_geometric.nn import GCNConv, GATConv, BatchNorm\n",
        "import torch.nn as nn\n",
        "import torch.nn.functional as F\n",
        "\n",
        "class SM2_GCN(torch.nn.Module):\n",
        "    def __init__(self,\n",
        "                 in_channels: int,\n",
        "                 hidden_channels: int,\n",
        "                 out_channels: int,\n",
        "                 conv_model: type[nn.Module],\n",
        "                 nonlinearity: nn.Module,\n",
        "                 num_hidden: int = 3,\n",
        "                 conv_args: Dict = {},\n",
        "                 dropout: float = 0.5):\n",
        "        super(SM2_GCN, self).__init__()\n",
        "\n",
        "        self.convs = nn.ModuleList()\n",
        "        self.bns = nn.ModuleList()\n",
        "\n",
        "        self.convs.append(\n",
        "            conv_model(in_channels, hidden_channels, **conv_args)\n",
        "        )\n",
        "        self.bns.append(BatchNorm(hidden_channels))\n",
        "        for _ in range(num_hidden):  # TODO!: BatchNorm or LayerNorm?\n",
        "            self.convs.append(\n",
        "                conv_model(hidden_channels, hidden_channels, **conv_args))\n",
        "            self.bns.append(BatchNorm(hidden_channels))\n",
        "\n",
        "        self.convs.append(\n",
        "            conv_model(hidden_channels, out_channels, **conv_args))\n",
        "        self.bns.append(BatchNorm(hidden_channels))\n",
        "\n",
        "        self.dropout = dropout\n",
        "        self.nonlinearity = nonlinearity\n",
        "\n",
        "    def reset_parameters(self):\n",
        "        for conv in self.convs:\n",
        "            conv.reset_parameters()\n",
        "        for bn in self.bns:\n",
        "            bn.reset_parameters()\n",
        "\n",
        "    def forward(self, x, edge_index):\n",
        "        for i, conv in enumerate(self.convs):\n",
        "            x = conv(x, edge_index)\n",
        "            # TODO! Check dimensionality of x after GCNConv and GATConv\n",
        "            x = self.nonlinearity(x)\n",
        "            x = F.dropout(x, p=self.dropout, training=self.training)\n",
        "            if i < len(self.convs) - 1:\n",
        "                x = self.bns[i](x)\n",
        "        x = F.softmax(x, dim=1)\n",
        "        return x\n"
      ]
    },
    {
      "cell_type": "code",
      "execution_count": 98,
      "metadata": {
        "id": "uHog_IupcbGF"
      },
      "outputs": [],
      "source": [
        "# Testing Config\n",
        "from dataclasses import dataclass, asdict, field\n",
        "\n",
        "import json\n",
        "import re\n",
        "\n",
        "\n",
        "class SerializableConfig:\n",
        "\n",
        "    @classmethod\n",
        "    def load(cls, fname: str):\n",
        "        with open(fname) as f:\n",
        "            return cls(**json.load(f))\n",
        "\n",
        "    def save(self, fname: str):\n",
        "        with open(fname, 'w') as f:\n",
        "            json.dump(asdict(self), f, indent=4)\n",
        "        return self\n",
        "\n",
        "    @classmethod\n",
        "    def from_dict(cls, d: dict):\n",
        "        # only take the keys that are in the dataclass\n",
        "        d = {k: v for k, v in d.items() if k in cls.__dataclass_fields__}\n",
        "        return cls(**d)\n",
        "\n",
        "\n",
        "@dataclass\n",
        "class TrainConfig(SerializableConfig):\n",
        "    num_epoch: int = 10\n",
        "    batch_size: int = 32\n",
        "    test_split: float = 0.2\n",
        "    random_state: Optional[int] = None\n",
        "\n",
        "    # Optimizer\n",
        "    optimizer_name: str = 'adam'\n",
        "    lr: float = 0.01\n",
        "    weight_decay: float = 5e-4\n",
        "\n",
        "    def get_optimizer_for(self, model):\n",
        "        if self.optimizer_name == 'adam':\n",
        "            return torch.optim.Adam(model.parameters(), lr=self.lr, weight_decay=self.weight_decay)\n",
        "        elif self.optimizer_name == 'sgd':\n",
        "            return torch.optim.SGD(model.parameters(), lr=self.lr, weight_decay=self.weight_decay)\n",
        "        else:\n",
        "            raise ValueError(f\"Unknown optimizer name: {self.optimizer_name}\")\n",
        "\n",
        "    # Loss\n",
        "    loss_name: str = 'cross_entropy'\n",
        "    # Beacuse of the class imbalance, we want to give more weight to the ID_LICIT class\n",
        "    class_weight: float = 0.80\n",
        "    \n",
        "    def get_loss(self):\n",
        "        class_weights = torch.Tensor([self.class_weight, 1 - self.class_weight], device=device)\n",
        "        if self.loss_name == 'cross_entropy':\n",
        "            return torch.nn.CrossEntropyLoss(weight=class_weights)\n",
        "        if self.loss_name == 'bce':\n",
        "            return torch.nn.BCEWithLogitsLoss(weight=class_weights)\n",
        "        else:\n",
        "            raise ValueError(f\"Unknown loss name: {self.loss_name}\")\n"
      ]
    },
    {
      "cell_type": "code",
      "execution_count": 99,
      "metadata": {
        "id": "uhnmYYUacbGH"
      },
      "outputs": [],
      "source": [
        "# Data loaders\n",
        "from torch_geometric.loader import DataLoader\n",
        "from torch_geometric.utils import from_networkx\n",
        "from sklearn.model_selection import train_test_split\n",
        "\n",
        "\n",
        "def split_and_create_loaders(config: TrainConfig, dataset: List[nx.Graph]) -> Tuple[Tuple[List, List], Tuple[DataLoader, DataLoader]]:\n",
        "    X_graphs = []\n",
        "    for subgraph in dataset:\n",
        "        _x = from_networkx(subgraph)\n",
        "        _x.x = _x.x.to(device)\n",
        "        _x.y = _x.y.to(device)\n",
        "        X_graphs.append(_x)\n",
        "    X_train, X_test = train_test_split(\n",
        "        X_graphs, test_size=config.test_split, random_state=config.random_state)\n",
        "    train_loader = DataLoader(\n",
        "        X_train, batch_size=config.batch_size)\n",
        "    test_loader = DataLoader(X_test, batch_size=1)\n",
        "    return (X_train, X_test), (train_loader, test_loader)\n"
      ]
    },
    {
      "cell_type": "code",
      "execution_count": 112,
      "metadata": {
        "id": "vbVQwkmUbC79"
      },
      "outputs": [],
      "source": [
        "# Train\n",
        "from tqdm.notebook import trange, tqdm\n",
        "\n",
        "\n",
        "def log(epoch, loss, best, one_line: bool = False):\n",
        "    if loss < best[1]:\n",
        "        best = (epoch, loss)\n",
        "    best_epoch, best_loss = best\n",
        "    s = f\"Epoch: {epoch} | Loss: {loss:.4f} | Best loss: {best_loss:.4f} @ Epoch {best_epoch}\"\n",
        "    s = f\"\\r{s}\" if one_line else f\"{s}\\n\"\n",
        "    tqdm.write(s, end=\"\")\n",
        "\n",
        "\n",
        "def train(model: SM2_GCN, data_loader: DataLoader, config: TrainConfig, shortlog: bool = False):\n",
        "    best_tuple = (-1, np.inf)\n",
        "    dataset = data_loader.dataset\n",
        "    loss_fn = config.get_loss()\n",
        "    optimizer = config.get_optimizer_for(model)\n",
        "    model.to(device)\n",
        "    model.reset_parameters()\n",
        "    model.train()\n",
        "    for epoch in trange(config.num_epoch, unit=\"Epochs\", desc=\"Training\"):\n",
        "        epoch_loss = 0\n",
        "\n",
        "        for batch in data_loader:\n",
        "            optimizer.zero_grad()\n",
        "\n",
        "            batch.to(device)\n",
        "            out = model(batch.x.float(), batch.edge_index)\n",
        "            labeled_mask = (batch.y != ID_UNLABELED)\n",
        "            loss = loss_fn(out[labeled_mask],\n",
        "                           batch.y[labeled_mask])\n",
        "            loss.backward()\n",
        "            optimizer.step()\n",
        "\n",
        "            epoch_loss += loss.item() * batch.num_graphs\n",
        "        avg_epoch_loss = epoch_loss / len(dataset)\n",
        "        log(epoch, avg_epoch_loss, best_tuple, one_line=shortlog)\n",
        "    print()\n"
      ]
    },
    {
      "cell_type": "code",
      "execution_count": 113,
      "metadata": {
        "id": "3TGN1t9jcbGJ"
      },
      "outputs": [],
      "source": [
        "# Test\n",
        "from sklearn.metrics import accuracy_score, f1_score, roc_curve\n",
        "\n",
        "\n",
        "@torch.no_grad()\n",
        "def test(model: nn.Module, data_loader: DataLoader,\n",
        "         in_kfold: bool = False):\n",
        "    model.to(device)\n",
        "    model.eval()\n",
        "\n",
        "    all_y = np.array([])\n",
        "    all_predicted = np.array([])\n",
        "    all_predicted_is_1 = np.array([])\n",
        "\n",
        "    for batch in tqdm(data_loader, unit=\"Test cases\", desc=\"Testing\"):\n",
        "        batch.to(device)\n",
        "        out = model(batch.x.float(), batch.edge_index)\n",
        "        label_mask = batch.y != ID_UNLABELED\n",
        "\n",
        "\n",
        "        predictions = out[label_mask].argmax(dim=1).to('cpu').numpy()\n",
        "        all_predicted = np.append(all_predicted, predictions)\n",
        "\n",
        "        y = batch.y[label_mask].to('cpu').numpy()\n",
        "        all_y = np.append(all_y, y)\n",
        "\n",
        "        if not in_kfold:\n",
        "            # Compute ROC curve and ROC area for class 1 = ID_LICIT\n",
        "            predicted_is_1 = out[label_mask][:, 1].to('cpu').numpy()\n",
        "            all_predicted_is_1 = np.append(all_predicted_is_1, predicted_is_1)\n",
        "            \n",
        "            acc = accuracy_score(y, predictions)\n",
        "            f1 = f1_score(y, predictions, average=\"macro\")\n",
        "            print(f\"Accuracy: {acc:.4f}, F1: {f1:.4f}\")\n",
        "\n",
        "    all_f1 = f1_score(all_y, all_predicted, average=\"macro\")\n",
        "\n",
        "    if not in_kfold:\n",
        "        acc = accuracy_score(all_y, all_predicted)\n",
        "        f1 = f1_score(all_y, all_predicted, average=\"macro\")\n",
        "        print(f\"Accuracy: {acc:.4f}, F1: {f1:.4f}\")\n",
        "        print(\n",
        "            f\"Real ratio of licit: {len(all_y[all_y == ID_LICIT])/len(all_y)}\",\n",
        "            f\"Predicted ratio of licit: {len(all_predicted[all_predicted == ID_LICIT])/len(all_predicted)}\")\n",
        "        fpr, tpr, _ = roc_curve(all_y, all_predicted_is_1)\n",
        "        plt.plot(fpr, tpr)\n",
        "        plt.ylabel('True Positive Rate')\n",
        "        plt.xlabel('False Positive Rate')\n",
        "        plt.show()\n",
        "\n",
        "    return all_f1\n"
      ]
    },
    {
      "cell_type": "code",
      "execution_count": 118,
      "metadata": {
        "id": "b9nmCVkucbGK"
      },
      "outputs": [],
      "source": [
        "# Model Config\n",
        "\n",
        "@dataclass\n",
        "class ModelConfig(SerializableConfig):\n",
        "    in_channels: int = -1\n",
        "    hidden_channels: int = 64\n",
        "    out_channels: int = 2\n",
        "    num_hidden: int = 3\n",
        "    conv_model: str = \"GATConv(4)\"\n",
        "    conv_args: dict = field(default_factory=dict)\n",
        "    dropout: float = 0.5\n",
        "    nonlinearity: str = 'leaky_relu(0.2)'\n",
        "\n",
        "    def __nonlinearity(self):\n",
        "        if self.nonlinearity == 'relu':\n",
        "            return nn.ReLU()\n",
        "        leakyrelu_re = re.match(r'leaky_relu\\((\\d+\\.?\\d*)\\)', self.nonlinearity)\n",
        "        if leakyrelu_re:\n",
        "            return nn.LeakyReLU(float(leakyrelu_re.group(1)))\n",
        "        if self.nonlinearity == 'sigmoid':\n",
        "            return nn.Sigmoid()\n",
        "        else:\n",
        "            raise ValueError(f\"Unknown nonlinearity: {self.nonlinearity}\")\n",
        "\n",
        "    def __model_type(self):\n",
        "        gatconv_re = re.match(r'GATConv\\((\\d+)\\)', self.conv_model)\n",
        "        if gatconv_re:\n",
        "            heads = int(gatconv_re.group(1))\n",
        "            self.conv_args.update({\"concat\": False, \"heads\": heads})\n",
        "            return GATConv\n",
        "        elif self.conv_model == \"GCNConv\":\n",
        "            return GCNConv\n",
        "        else:\n",
        "            raise ValueError(f\"Unknown model type: {self.conv_model}\")\n",
        "\n",
        "    def create(self):\n",
        "        return SM2_GCN(in_channels=self.in_channels,\n",
        "                       hidden_channels=self.hidden_channels,\n",
        "                       out_channels=self.out_channels,\n",
        "                       num_hidden=self.num_hidden,\n",
        "                       conv_model=self.__model_type(),\n",
        "                       conv_args=self.conv_args, dropout=self.dropout,\n",
        "                       nonlinearity=self.__nonlinearity()\n",
        "                )\n"
      ]
    },
    {
      "cell_type": "code",
      "execution_count": 120,
      "metadata": {
        "colab": {
          "base_uri": "https://localhost:8080/",
          "height": 500,
          "referenced_widgets": [
            "be14f3c876354f89923e3315bc544b7a",
            "80a0cebcc245448882d0aab9cef5ab20",
            "c55c02b6c3f748a89b092fec8cf918aa",
            "14a3ed9532aa461b8b0fdadf6cb7723b",
            "63d512567d54403d9f3ad10fffd902df",
            "c3af1b97832b497f9427b6238a6e4668",
            "d16c8c1aa4bb46078e85aea40ad4154d",
            "fda0e084b37f49f8a5ab9dc3b46c260a",
            "f39434a336774470b242525ecb0126d7",
            "999b90c4805b4ac48eb2d97fe98590a3",
            "d0b96f65736f4e8facf6a5283cbdc2ea",
            "e3f463fec85e456cb87ca1f223147331",
            "d637397bde784d5690cdba6c37ffb071",
            "f55ddc0e846040af9129d110f58ff12f",
            "4162fc2e10a54d90aeadd77096ea0e4a",
            "691880541c034fca887d9824bb9d2d38",
            "c5bc0f93f0be42efbe4f2f2b42b3537a",
            "e09ceacc5a8c440cbcecbd4094d35ce8",
            "ae256a770ab348f987ed5c4bb6aa426c",
            "bf79d8c6f88040b79ff355216aea5b5f",
            "f0fc68d67fdc4f48a5b30a08f86980fa",
            "fcd279ef9b2647c68f85015bc242d5dd"
          ]
        },
        "id": "75H581YncbGL",
        "outputId": "e06f4379-18e5-49db-8a8f-19276631604d"
      },
      "outputs": [
        {
          "data": {
            "application/vnd.jupyter.widget-view+json": {
              "model_id": "6b6fbc943c40461983bbf5dc12c61a83",
              "version_major": 2,
              "version_minor": 0
            },
            "text/plain": [
              "Training:   0%|          | 0/8 [00:00<?, ?Epochs/s]"
            ]
          },
          "metadata": {},
          "output_type": "display_data"
        },
        {
          "name": "stdout",
          "output_type": "stream",
          "text": [
            "Epoch: 7 | Loss: 0.5930 | Best loss: 0.5930 @ Epoch 7Base-predictor, with some default hyper-parameter values\n"
          ]
        },
        {
          "data": {
            "application/vnd.jupyter.widget-view+json": {
              "model_id": "d4de3136bd97427592f18dec4e9cd845",
              "version_major": 2,
              "version_minor": 0
            },
            "text/plain": [
              "Testing:   0%|          | 0/10 [00:00<?, ?Test cases/s]"
            ]
          },
          "metadata": {},
          "output_type": "display_data"
        },
        {
          "name": "stdout",
          "output_type": "stream",
          "text": [
            "Accuracy: 0.8033, F1: 0.7636\n",
            "Accuracy: 0.8414, F1: 0.7266\n",
            "Accuracy: 0.9274, F1: 0.7224\n",
            "Accuracy: 0.9024, F1: 0.7201\n",
            "Accuracy: 0.8635, F1: 0.6863\n",
            "Accuracy: 0.8189, F1: 0.7554\n",
            "Accuracy: 0.9058, F1: 0.4903\n",
            "Accuracy: 0.8859, F1: 0.8028\n",
            "Accuracy: 0.9320, F1: 0.5146\n",
            "Accuracy: 0.8638, F1: 0.7371\n",
            "Accuracy: 0.8829, F1: 0.7272\n",
            "Real ratio: 0.8872559771879798, Pred ratio: 0.8681728449221321\n"
          ]
        },
        {
          "data": {
            "image/png": "[encoded data removed]",
            "text/plain": [
              "<Figure size 640x480 with 1 Axes>"
            ]
          },
          "metadata": {},
          "output_type": "display_data"
        },
        {
          "name": "stdout",
          "output_type": "stream",
          "text": [
            "F1 score: 0.7272\n"
          ]
        }
      ],
      "source": [
        "# All together\n",
        "\n",
        "\n",
        "fname = 'local_training_config.json'\n",
        "try:\n",
        "    config = TrainConfig.load(fname)\n",
        "except FileNotFoundError:\n",
        "    config = TrainConfig(\n",
        "        num_epoch=10,\n",
        "        batch_size=32,\n",
        "        test_split=0.2,\n",
        "        optimizer_name='adam',\n",
        "        lr=0.01,\n",
        "        weight_decay=5e-4,\n",
        "        loss_name='cross_entropy'\n",
        "    ).save(fname)\n",
        "\n",
        "fname = 'local_model_config.json'\n",
        "try:\n",
        "    model_config = ModelConfig.load(fname)\n",
        "except FileNotFoundError:\n",
        "    model_config = ModelConfig(\n",
        "        hidden_channels=64,\n",
        "        num_hidden=3,\n",
        "        conv_model='GATConv',\n",
        "        dropout=0.5,\n",
        "        nonlinearity='leaky_relu(0.2)').save(fname)\n",
        "\n",
        "model = model_config.create()\n",
        "_, (train_loader, test_loader) = split_and_create_loaders(config, dataset)\n",
        "train(model, train_loader, config, shortlog=True)\n",
        "print(\"Base-predictor, with some default hyper-parameter values\")\n",
        "f1 = test(model, test_loader)\n",
        "print(f\"F1 score: {f1:.4f}\")\n"
      ]
    },
    {
      "cell_type": "code",
      "execution_count": 104,
      "metadata": {
        "colab": {
          "base_uri": "https://localhost:8080/",
          "height": 482,
          "referenced_widgets": [
            "05f2e3340ba24567870576ea08ce285d",
            "2eeab6c225c64a44a36cd953a74e6aea",
            "9ee62102a8d140a9b2444d43f556ad66",
            "a6b9e30b9fdf41ec943587956b9343fc",
            "011a170eb85e4e489fe0cbc537820b06",
            "e05dc61f3fff4f999578999e6532b486",
            "d91bc6d8e6194d7ea56b67842309bfe8",
            "439199b4eab9412189f1a3bf84adcca7",
            "023ca0775bd343a7a517892f3847bb3d",
            "d378a2b2e6ef47ee8b1d37ba53fd03b1",
            "4ce05d19d9c54075940770bedf6862db"
          ]
        },
        "id": "vtowuE_QcCWd",
        "outputId": "8a1ddc82-0c40-4efc-e245-aa7d73d33ca5"
      },
      "outputs": [],
      "source": [
        "# K-Fold Cross Validation\n",
        "from torch.utils.data import SubsetRandomSampler\n",
        "from sklearn.model_selection import RepeatedKFold\n",
        "from tqdm.notebook import tqdm\n",
        "\n",
        "\n",
        "def kfold(model, config: TrainConfig, train_dataset:List, n_splits=5, n_repeats=1):\n",
        "    f1_history = []\n",
        "    rkfold_splitter = RepeatedKFold(n_splits=n_splits, n_repeats=n_repeats)\n",
        "\n",
        "    for (train_idx, val_idx) in tqdm(rkfold_splitter.split(train_dataset), total=n_splits*n_repeats, desc=\"K-Fold\"):\n",
        "        train_sampler = SubsetRandomSampler(train_idx)\n",
        "        valid_sampler = SubsetRandomSampler(val_idx)\n",
        "        train_loader = DataLoader(\n",
        "            train_dataset, batch_size=config.batch_size, sampler=train_sampler)\n",
        "        valid_loader = DataLoader(\n",
        "            train_dataset, batch_size=config.batch_size, sampler=valid_sampler)\n",
        "        train(model, train_loader, config, shortlog=True)\n",
        "        f1 = test(model, valid_loader, in_kfold=True)\n",
        "        f1_history.append(f1)\n",
        "    avg_test_f1 = np.mean(f1_history)\n",
        "    print(f\"Average F1: {avg_test_f1}\")\n",
        "    return avg_test_f1\n",
        "\n"
      ]
    },
    {
      "cell_type": "code",
      "execution_count": 109,
      "metadata": {
        "id": "cC99Z2K4w1tX"
      },
      "outputs": [
        {
          "name": "stderr",
          "output_type": "stream",
          "text": [
            "\u001b[32m[I 2023-03-25 18:21:47,826]\u001b[0m A new study created in memory with name: no-name-c10ee5fc-9861-4770-86cc-be3d58484a26\u001b[0m\n",
            "c:\\Users\\aljaz\\anaconda3\\envs\\mlg_env\\lib\\site-packages\\optuna\\progress_bar.py:56: ExperimentalWarning: Progress bar is experimental (supported from v1.2.0). The interface can change in the future.\n",
            "  self._init_valid()\n"
          ]
        },
        {
          "data": {
            "application/vnd.jupyter.widget-view+json": {
              "model_id": "9dcb35aaa53449eaa424e6b7d19ad1e4",
              "version_major": 2,
              "version_minor": 0
            },
            "text/plain": [
              "  0%|          | 0/1 [00:00<?, ?it/s]"
            ]
          },
          "metadata": {},
          "output_type": "display_data"
        },
        {
          "name": "stdout",
          "output_type": "stream",
          "text": [
            "Creating model from config\n",
            "ModelConfig(in_channels=-1, hidden_channels=6, out_channels=2, num_hidden=1, conv_model='GATConv(4)', conv_args={}, dropout=0.4173143084173726, nonlinearity='leaky_relu(0.2)')\n"
          ]
        },
        {
          "data": {
            "application/vnd.jupyter.widget-view+json": {
              "model_id": "2406dada166e49a99a330090f05a9444",
              "version_major": 2,
              "version_minor": 0
            },
            "text/plain": [
              "K-Fold:   0%|          | 0/5 [00:00<?, ?it/s]"
            ]
          },
          "metadata": {},
          "output_type": "display_data"
        },
        {
          "data": {
            "application/vnd.jupyter.widget-view+json": {
              "model_id": "1b759c30b14847269b2eae5723687f4e",
              "version_major": 2,
              "version_minor": 0
            },
            "text/plain": [
              "Training:   0%|          | 0/4 [00:00<?, ?Epochs/s]"
            ]
          },
          "metadata": {},
          "output_type": "display_data"
        },
        {
          "name": "stdout",
          "output_type": "stream",
          "text": [
            "Epoch: 3 | Loss: 0.5448 | Best:0.5448 @3"
          ]
        },
        {
          "data": {
            "application/vnd.jupyter.widget-view+json": {
              "model_id": "5e494c9899754775ae7a50803b2c3621",
              "version_major": 2,
              "version_minor": 0
            },
            "text/plain": [
              "Testing:   0%|          | 0/1 [00:00<?, ?Test cases/s]"
            ]
          },
          "metadata": {},
          "output_type": "display_data"
        },
        {
          "data": {
            "application/vnd.jupyter.widget-view+json": {
              "model_id": "361abd76f9c44620a3547d01c202429a",
              "version_major": 2,
              "version_minor": 0
            },
            "text/plain": [
              "Training:   0%|          | 0/4 [00:00<?, ?Epochs/s]"
            ]
          },
          "metadata": {},
          "output_type": "display_data"
        },
        {
          "name": "stdout",
          "output_type": "stream",
          "text": [
            "Epoch: 3 | Loss: 0.5575 | Best:0.5575 @3"
          ]
        },
        {
          "data": {
            "application/vnd.jupyter.widget-view+json": {
              "model_id": "2e305c5467704623b70ee78423f9bdc5",
              "version_major": 2,
              "version_minor": 0
            },
            "text/plain": [
              "Testing:   0%|          | 0/1 [00:00<?, ?Test cases/s]"
            ]
          },
          "metadata": {},
          "output_type": "display_data"
        },
        {
          "data": {
            "application/vnd.jupyter.widget-view+json": {
              "model_id": "f5e77be7dfe0413683540211676ddd3b",
              "version_major": 2,
              "version_minor": 0
            },
            "text/plain": [
              "Training:   0%|          | 0/4 [00:00<?, ?Epochs/s]"
            ]
          },
          "metadata": {},
          "output_type": "display_data"
        },
        {
          "name": "stdout",
          "output_type": "stream",
          "text": [
            "Epoch: 3 | Loss: 0.5433 | Best:0.5433 @3"
          ]
        },
        {
          "data": {
            "application/vnd.jupyter.widget-view+json": {
              "model_id": "5382db560a10467abea939af02f8e765",
              "version_major": 2,
              "version_minor": 0
            },
            "text/plain": [
              "Testing:   0%|          | 0/1 [00:00<?, ?Test cases/s]"
            ]
          },
          "metadata": {},
          "output_type": "display_data"
        },
        {
          "data": {
            "application/vnd.jupyter.widget-view+json": {
              "model_id": "0b1f5e345c2c4fcfb70dfd5c798ac30c",
              "version_major": 2,
              "version_minor": 0
            },
            "text/plain": [
              "Training:   0%|          | 0/4 [00:00<?, ?Epochs/s]"
            ]
          },
          "metadata": {},
          "output_type": "display_data"
        },
        {
          "name": "stdout",
          "output_type": "stream",
          "text": [
            "Epoch: 3 | Loss: 0.5647 | Best:0.5647 @3"
          ]
        },
        {
          "data": {
            "application/vnd.jupyter.widget-view+json": {
              "model_id": "6ab988afb0774d6b93739d10d45f1bce",
              "version_major": 2,
              "version_minor": 0
            },
            "text/plain": [
              "Testing:   0%|          | 0/1 [00:00<?, ?Test cases/s]"
            ]
          },
          "metadata": {},
          "output_type": "display_data"
        },
        {
          "data": {
            "application/vnd.jupyter.widget-view+json": {
              "model_id": "3c7816d4fa49419db08dc0dce4650e3a",
              "version_major": 2,
              "version_minor": 0
            },
            "text/plain": [
              "Training:   0%|          | 0/4 [00:00<?, ?Epochs/s]"
            ]
          },
          "metadata": {},
          "output_type": "display_data"
        },
        {
          "name": "stdout",
          "output_type": "stream",
          "text": [
            "Epoch: 3 | Loss: 0.5801 | Best:0.5801 @3"
          ]
        },
        {
          "data": {
            "application/vnd.jupyter.widget-view+json": {
              "model_id": "8939ff89b7a14111926ec60e6f459909",
              "version_major": 2,
              "version_minor": 0
            },
            "text/plain": [
              "Testing:   0%|          | 0/1 [00:00<?, ?Test cases/s]"
            ]
          },
          "metadata": {},
          "output_type": "display_data"
        },
        {
          "name": "stdout",
          "output_type": "stream",
          "text": [
            "Average F1: 0.46728556130439297\n",
            "\u001b[32m[I 2023-03-25 18:21:52,264]\u001b[0m Trial 0 finished with value: 0.46728556130439297 and parameters: {'hidden_channels': 6, 'num_hidden': 1, 'conv_model': 'GATConv(4)', 'dropout': 0.4173143084173726, 'nonlinearity': 'leaky_relu(0.2)', 'lr': 0.00019607112779093362, 'weight_decay': 2.1813000220535568e-05}. Best is trial 0 with value: 0.46728556130439297.\u001b[0m\n"
          ]
        }
      ],
      "source": [
        "# Hyperparameter search\n",
        "import optuna\n",
        "from optuna.samplers import TPESampler\n",
        "\n",
        "\n",
        "def objective(trial):\n",
        "    global X_train\n",
        "    model_config = ModelConfig(\n",
        "        hidden_channels=trial.suggest_int('hidden_channels', 2, 6),\n",
        "        num_hidden=trial.suggest_int('num_hidden', 1, 4),\n",
        "        conv_model=trial.suggest_categorical(\n",
        "            'conv_model', ['GATConv(1)', 'GATConv(2)', 'GATConv(3)', 'GATConv(4)', 'GCNConv']),\n",
        "        conv_args={},\n",
        "        dropout=trial.suggest_float('dropout', 0.1, 0.5),\n",
        "        nonlinearity=trial.suggest_categorical(\n",
        "            'nonlinearity', ['relu', 'leaky_relu(0.2)', 'sigmoid'])\n",
        "    )\n",
        "    config = TrainConfig(\n",
        "        num_epoch=64,\n",
        "        batch_size=8,\n",
        "        test_split=0.2,  # Not used in kfold\n",
        "        optimizer_name='adam',\n",
        "        lr=trial.suggest_float('lr', 1e-4, 1e-1, log=True),\n",
        "        weight_decay=trial.suggest_float('weight_decay', 1e-5, 1e-1, log=True),\n",
        "        loss_name='cross_entropy',\n",
        "        class_weight=trial.suggest_float('class_weight', 0.6, 0.9, log=True)\n",
        "    )\n",
        "    model = model_config.create()\n",
        "    return kfold(model, config, X_train, n_splits=5)\n",
        "\n",
        "\n",
        "(X_train, _), (loader_X_train, loader_X_test) = split_and_create_loaders(config, dataset)\n",
        "study = optuna.create_study(direction='maximize', sampler=TPESampler())\n",
        "\n",
        "try:\n",
        "    study.optimize(objective, n_trials=80, show_progress_bar=True)\n",
        "except KeyboardInterrupt:\n",
        "    pass\n",
        "except Exception as e:\n",
        "    print(e)\n"
      ]
    },
    {
      "cell_type": "code",
      "execution_count": 123,
      "metadata": {},
      "outputs": [
        {
          "name": "stdout",
          "output_type": "stream",
          "text": [
            "Number of finished trials: 1\n",
            "Best trial: {'hidden_channels': 6, 'num_hidden': 1, 'conv_model': 'GATConv(4)', 'dropout': 0.4173143084173726, 'nonlinearity': 'leaky_relu(0.2)', 'lr': 0.00019607112779093362, 'weight_decay': 2.1813000220535568e-05}\n",
            "Best value: 0.46728556130439297\n"
          ]
        }
      ],
      "source": [
        "# Report on the best trial\n",
        "\n",
        "print('Number of finished trials:', len(study.trials))\n",
        "print('Best trial:', study.best_trial.params)\n",
        "print('Best value:', study.best_value)\n",
        "\n",
        "best_model_conf = ModelConfig.from_dict(study.best_trial.params)\\\n",
        "    .save('local_best_model_config.json')\n",
        "best_training_conf = TrainConfig.from_dict(study.best_trial.params)\\\n",
        "    .save('local_best_train_config.json')\n"
      ]
    },
    {
      "cell_type": "code",
      "execution_count": 124,
      "metadata": {},
      "outputs": [
        {
          "data": {
            "application/vnd.jupyter.widget-view+json": {
              "model_id": "e0e8fcb89bf44c119c4689c44db2f148",
              "version_major": 2,
              "version_minor": 0
            },
            "text/plain": [
              "Training:   0%|          | 0/10 [00:00<?, ?Epochs/s]"
            ]
          },
          "metadata": {},
          "output_type": "display_data"
        },
        {
          "name": "stdout",
          "output_type": "stream",
          "text": [
            "Epoch: 9 | Loss: 0.6879 | Best loss: 0.6879 @ Epoch 9"
          ]
        },
        {
          "data": {
            "application/vnd.jupyter.widget-view+json": {
              "model_id": "4c759d9cabda4c2caa6161774da2d197",
              "version_major": 2,
              "version_minor": 0
            },
            "text/plain": [
              "Testing:   0%|          | 0/10 [00:00<?, ?Test cases/s]"
            ]
          },
          "metadata": {},
          "output_type": "display_data"
        },
        {
          "name": "stdout",
          "output_type": "stream",
          "text": [
            "Accuracy: 0.4281, F1: 0.3999\n",
            "Accuracy: 0.5710, F1: 0.5297\n",
            "Accuracy: 0.5071, F1: 0.4552\n",
            "Accuracy: 0.4315, F1: 0.3202\n",
            "Accuracy: 0.5262, F1: 0.4463\n",
            "Accuracy: 0.3381, F1: 0.2596\n",
            "Accuracy: 0.5162, F1: 0.5050\n",
            "Accuracy: 0.5474, F1: 0.5251\n",
            "Accuracy: 0.3371, F1: 0.2537\n",
            "Accuracy: 0.5786, F1: 0.3700\n",
            "Accuracy: 0.4890, F1: 0.4142\n",
            "Real ratio: 0.9186515558970418, Pred ratio: 0.43853246254321937\n"
          ]
        },
        {
          "data": {
            "image/png": "[encoded data removed]",
            "text/plain": [
              "<Figure size 640x480 with 1 Axes>"
            ]
          },
          "metadata": {},
          "output_type": "display_data"
        },
        {
          "name": "stdout",
          "output_type": "stream",
          "text": [
            "Final F1 score: 0.4142\n"
          ]
        }
      ],
      "source": [
        "# Training with best hyperparameters on the whole dataset\n",
        "model = best_model_conf.create()\n",
        "train(model, loader_X_train, best_training_conf, shortlog=True)\n",
        "f1=test(model, loader_X_test)\n",
        "print(f\"Final F1 score: {f1:.4f}\")"
      ]
    }
  ],
  "metadata": {
    "accelerator": "GPU",
    "colab": {
      "provenance": []
    },
    "gpuClass": "standard",
    "kernelspec": {
      "display_name": "mlg_env",
      "language": "python",
      "name": "python3"
    },
    "language_info": {
      "codemirror_mode": {
        "name": "ipython",
        "version": 3
      },
      "file_extension": ".py",
      "mimetype": "text/x-python",
      "name": "python",
      "nbconvert_exporter": "python",
      "pygments_lexer": "ipython3",
      "version": "3.10.4"
    },
    "vscode": {
      "interpreter": {
        "hash": "c61a675b41668447fa58bc6ca3d857bd2ade644cac58e99b3b1fbe22f9b306ee"
      }
    },
    "widgets": {
      "application/vnd.jupyter.widget-state+json": {
        "011a170eb85e4e489fe0cbc537820b06": {
          "model_module": "@jupyter-widgets/base",
          "model_module_version": "1.2.0",
          "model_name": "LayoutModel",
          "state": {
            "_model_module": "@jupyter-widgets/base",
            "_model_module_version": "1.2.0",
            "_model_name": "LayoutModel",
            "_view_count": null,
            "_view_module": "@jupyter-widgets/base",
            "_view_module_version": "1.2.0",
            "_view_name": "LayoutView",
            "align_content": null,
            "align_items": null,
            "align_self": null,
            "border": null,
            "bottom": null,
            "display": null,
            "flex": null,
            "flex_flow": null,
            "grid_area": null,
            "grid_auto_columns": null,
            "grid_auto_flow": null,
            "grid_auto_rows": null,
            "grid_column": null,
            "grid_gap": null,
            "grid_row": null,
            "grid_template_areas": null,
            "grid_template_columns": null,
            "grid_template_rows": null,
            "height": null,
            "justify_content": null,
            "justify_items": null,
            "left": null,
            "margin": null,
            "max_height": null,
            "max_width": null,
            "min_height": null,
            "min_width": null,
            "object_fit": null,
            "object_position": null,
            "order": null,
            "overflow": null,
            "overflow_x": null,
            "overflow_y": null,
            "padding": null,
            "right": null,
            "top": null,
            "visibility": null,
            "width": null
          }
        },
        "023ca0775bd343a7a517892f3847bb3d": {
          "model_module": "@jupyter-widgets/controls",
          "model_module_version": "1.5.0",
          "model_name": "ProgressStyleModel",
          "state": {
            "_model_module": "@jupyter-widgets/controls",
            "_model_module_version": "1.5.0",
            "_model_name": "ProgressStyleModel",
            "_view_count": null,
            "_view_module": "@jupyter-widgets/base",
            "_view_module_version": "1.2.0",
            "_view_name": "StyleView",
            "bar_color": null,
            "description_width": ""
          }
        },
        "05f2e3340ba24567870576ea08ce285d": {
          "model_module": "@jupyter-widgets/controls",
          "model_module_version": "1.5.0",
          "model_name": "HBoxModel",
          "state": {
            "_dom_classes": [],
            "_model_module": "@jupyter-widgets/controls",
            "_model_module_version": "1.5.0",
            "_model_name": "HBoxModel",
            "_view_count": null,
            "_view_module": "@jupyter-widgets/controls",
            "_view_module_version": "1.5.0",
            "_view_name": "HBoxView",
            "box_style": "",
            "children": [
              "IPY_MODEL_2eeab6c225c64a44a36cd953a74e6aea",
              "IPY_MODEL_9ee62102a8d140a9b2444d43f556ad66",
              "IPY_MODEL_a6b9e30b9fdf41ec943587956b9343fc"
            ],
            "layout": "IPY_MODEL_011a170eb85e4e489fe0cbc537820b06"
          }
        },
        "14a3ed9532aa461b8b0fdadf6cb7723b": {
          "model_module": "@jupyter-widgets/controls",
          "model_module_version": "1.5.0",
          "model_name": "HTMLModel",
          "state": {
            "_dom_classes": [],
            "_model_module": "@jupyter-widgets/controls",
            "_model_module_version": "1.5.0",
            "_model_name": "HTMLModel",
            "_view_count": null,
            "_view_module": "@jupyter-widgets/controls",
            "_view_module_version": "1.5.0",
            "_view_name": "HTMLView",
            "description": "",
            "description_tooltip": null,
            "layout": "IPY_MODEL_999b90c4805b4ac48eb2d97fe98590a3",
            "placeholder": "​",
            "style": "IPY_MODEL_d0b96f65736f4e8facf6a5283cbdc2ea",
            "value": " 10/10 [00:40&lt;00:00,  3.90s/Epochs]"
          }
        },
        "2eeab6c225c64a44a36cd953a74e6aea": {
          "model_module": "@jupyter-widgets/controls",
          "model_module_version": "1.5.0",
          "model_name": "HTMLModel",
          "state": {
            "_dom_classes": [],
            "_model_module": "@jupyter-widgets/controls",
            "_model_module_version": "1.5.0",
            "_model_name": "HTMLModel",
            "_view_count": null,
            "_view_module": "@jupyter-widgets/controls",
            "_view_module_version": "1.5.0",
            "_view_name": "HTMLView",
            "description": "",
            "description_tooltip": null,
            "layout": "IPY_MODEL_e05dc61f3fff4f999578999e6532b486",
            "placeholder": "​",
            "style": "IPY_MODEL_d91bc6d8e6194d7ea56b67842309bfe8",
            "value": "Training:  20%"
          }
        },
        "4162fc2e10a54d90aeadd77096ea0e4a": {
          "model_module": "@jupyter-widgets/controls",
          "model_module_version": "1.5.0",
          "model_name": "HTMLModel",
          "state": {
            "_dom_classes": [],
            "_model_module": "@jupyter-widgets/controls",
            "_model_module_version": "1.5.0",
            "_model_name": "HTMLModel",
            "_view_count": null,
            "_view_module": "@jupyter-widgets/controls",
            "_view_module_version": "1.5.0",
            "_view_name": "HTMLView",
            "description": "",
            "description_tooltip": null,
            "layout": "IPY_MODEL_f0fc68d67fdc4f48a5b30a08f86980fa",
            "placeholder": "​",
            "style": "IPY_MODEL_fcd279ef9b2647c68f85015bc242d5dd",
            "value": " 10/10 [00:00&lt;00:00, 21.92Test cases/s]"
          }
        },
        "439199b4eab9412189f1a3bf84adcca7": {
          "model_module": "@jupyter-widgets/base",
          "model_module_version": "1.2.0",
          "model_name": "LayoutModel",
          "state": {
            "_model_module": "@jupyter-widgets/base",
            "_model_module_version": "1.2.0",
            "_model_name": "LayoutModel",
            "_view_count": null,
            "_view_module": "@jupyter-widgets/base",
            "_view_module_version": "1.2.0",
            "_view_name": "LayoutView",
            "align_content": null,
            "align_items": null,
            "align_self": null,
            "border": null,
            "bottom": null,
            "display": null,
            "flex": null,
            "flex_flow": null,
            "grid_area": null,
            "grid_auto_columns": null,
            "grid_auto_flow": null,
            "grid_auto_rows": null,
            "grid_column": null,
            "grid_gap": null,
            "grid_row": null,
            "grid_template_areas": null,
            "grid_template_columns": null,
            "grid_template_rows": null,
            "height": null,
            "justify_content": null,
            "justify_items": null,
            "left": null,
            "margin": null,
            "max_height": null,
            "max_width": null,
            "min_height": null,
            "min_width": null,
            "object_fit": null,
            "object_position": null,
            "order": null,
            "overflow": null,
            "overflow_x": null,
            "overflow_y": null,
            "padding": null,
            "right": null,
            "top": null,
            "visibility": null,
            "width": null
          }
        },
        "4ce05d19d9c54075940770bedf6862db": {
          "model_module": "@jupyter-widgets/controls",
          "model_module_version": "1.5.0",
          "model_name": "DescriptionStyleModel",
          "state": {
            "_model_module": "@jupyter-widgets/controls",
            "_model_module_version": "1.5.0",
            "_model_name": "DescriptionStyleModel",
            "_view_count": null,
            "_view_module": "@jupyter-widgets/base",
            "_view_module_version": "1.2.0",
            "_view_name": "StyleView",
            "description_width": ""
          }
        },
        "63d512567d54403d9f3ad10fffd902df": {
          "model_module": "@jupyter-widgets/base",
          "model_module_version": "1.2.0",
          "model_name": "LayoutModel",
          "state": {
            "_model_module": "@jupyter-widgets/base",
            "_model_module_version": "1.2.0",
            "_model_name": "LayoutModel",
            "_view_count": null,
            "_view_module": "@jupyter-widgets/base",
            "_view_module_version": "1.2.0",
            "_view_name": "LayoutView",
            "align_content": null,
            "align_items": null,
            "align_self": null,
            "border": null,
            "bottom": null,
            "display": null,
            "flex": null,
            "flex_flow": null,
            "grid_area": null,
            "grid_auto_columns": null,
            "grid_auto_flow": null,
            "grid_auto_rows": null,
            "grid_column": null,
            "grid_gap": null,
            "grid_row": null,
            "grid_template_areas": null,
            "grid_template_columns": null,
            "grid_template_rows": null,
            "height": null,
            "justify_content": null,
            "justify_items": null,
            "left": null,
            "margin": null,
            "max_height": null,
            "max_width": null,
            "min_height": null,
            "min_width": null,
            "object_fit": null,
            "object_position": null,
            "order": null,
            "overflow": null,
            "overflow_x": null,
            "overflow_y": null,
            "padding": null,
            "right": null,
            "top": null,
            "visibility": null,
            "width": null
          }
        },
        "691880541c034fca887d9824bb9d2d38": {
          "model_module": "@jupyter-widgets/base",
          "model_module_version": "1.2.0",
          "model_name": "LayoutModel",
          "state": {
            "_model_module": "@jupyter-widgets/base",
            "_model_module_version": "1.2.0",
            "_model_name": "LayoutModel",
            "_view_count": null,
            "_view_module": "@jupyter-widgets/base",
            "_view_module_version": "1.2.0",
            "_view_name": "LayoutView",
            "align_content": null,
            "align_items": null,
            "align_self": null,
            "border": null,
            "bottom": null,
            "display": null,
            "flex": null,
            "flex_flow": null,
            "grid_area": null,
            "grid_auto_columns": null,
            "grid_auto_flow": null,
            "grid_auto_rows": null,
            "grid_column": null,
            "grid_gap": null,
            "grid_row": null,
            "grid_template_areas": null,
            "grid_template_columns": null,
            "grid_template_rows": null,
            "height": null,
            "justify_content": null,
            "justify_items": null,
            "left": null,
            "margin": null,
            "max_height": null,
            "max_width": null,
            "min_height": null,
            "min_width": null,
            "object_fit": null,
            "object_position": null,
            "order": null,
            "overflow": null,
            "overflow_x": null,
            "overflow_y": null,
            "padding": null,
            "right": null,
            "top": null,
            "visibility": null,
            "width": null
          }
        },
        "80a0cebcc245448882d0aab9cef5ab20": {
          "model_module": "@jupyter-widgets/controls",
          "model_module_version": "1.5.0",
          "model_name": "HTMLModel",
          "state": {
            "_dom_classes": [],
            "_model_module": "@jupyter-widgets/controls",
            "_model_module_version": "1.5.0",
            "_model_name": "HTMLModel",
            "_view_count": null,
            "_view_module": "@jupyter-widgets/controls",
            "_view_module_version": "1.5.0",
            "_view_name": "HTMLView",
            "description": "",
            "description_tooltip": null,
            "layout": "IPY_MODEL_c3af1b97832b497f9427b6238a6e4668",
            "placeholder": "​",
            "style": "IPY_MODEL_d16c8c1aa4bb46078e85aea40ad4154d",
            "value": "Training: 100%"
          }
        },
        "999b90c4805b4ac48eb2d97fe98590a3": {
          "model_module": "@jupyter-widgets/base",
          "model_module_version": "1.2.0",
          "model_name": "LayoutModel",
          "state": {
            "_model_module": "@jupyter-widgets/base",
            "_model_module_version": "1.2.0",
            "_model_name": "LayoutModel",
            "_view_count": null,
            "_view_module": "@jupyter-widgets/base",
            "_view_module_version": "1.2.0",
            "_view_name": "LayoutView",
            "align_content": null,
            "align_items": null,
            "align_self": null,
            "border": null,
            "bottom": null,
            "display": null,
            "flex": null,
            "flex_flow": null,
            "grid_area": null,
            "grid_auto_columns": null,
            "grid_auto_flow": null,
            "grid_auto_rows": null,
            "grid_column": null,
            "grid_gap": null,
            "grid_row": null,
            "grid_template_areas": null,
            "grid_template_columns": null,
            "grid_template_rows": null,
            "height": null,
            "justify_content": null,
            "justify_items": null,
            "left": null,
            "margin": null,
            "max_height": null,
            "max_width": null,
            "min_height": null,
            "min_width": null,
            "object_fit": null,
            "object_position": null,
            "order": null,
            "overflow": null,
            "overflow_x": null,
            "overflow_y": null,
            "padding": null,
            "right": null,
            "top": null,
            "visibility": null,
            "width": null
          }
        },
        "9ee62102a8d140a9b2444d43f556ad66": {
          "model_module": "@jupyter-widgets/controls",
          "model_module_version": "1.5.0",
          "model_name": "FloatProgressModel",
          "state": {
            "_dom_classes": [],
            "_model_module": "@jupyter-widgets/controls",
            "_model_module_version": "1.5.0",
            "_model_name": "FloatProgressModel",
            "_view_count": null,
            "_view_module": "@jupyter-widgets/controls",
            "_view_module_version": "1.5.0",
            "_view_name": "ProgressView",
            "bar_style": "danger",
            "description": "",
            "description_tooltip": null,
            "layout": "IPY_MODEL_439199b4eab9412189f1a3bf84adcca7",
            "max": 10,
            "min": 0,
            "orientation": "horizontal",
            "style": "IPY_MODEL_023ca0775bd343a7a517892f3847bb3d",
            "value": 2
          }
        },
        "a6b9e30b9fdf41ec943587956b9343fc": {
          "model_module": "@jupyter-widgets/controls",
          "model_module_version": "1.5.0",
          "model_name": "HTMLModel",
          "state": {
            "_dom_classes": [],
            "_model_module": "@jupyter-widgets/controls",
            "_model_module_version": "1.5.0",
            "_model_name": "HTMLModel",
            "_view_count": null,
            "_view_module": "@jupyter-widgets/controls",
            "_view_module_version": "1.5.0",
            "_view_name": "HTMLView",
            "description": "",
            "description_tooltip": null,
            "layout": "IPY_MODEL_d378a2b2e6ef47ee8b1d37ba53fd03b1",
            "placeholder": "​",
            "style": "IPY_MODEL_4ce05d19d9c54075940770bedf6862db",
            "value": " 2/10 [00:21&lt;01:05,  8.21s/Epochs]"
          }
        },
        "ae256a770ab348f987ed5c4bb6aa426c": {
          "model_module": "@jupyter-widgets/base",
          "model_module_version": "1.2.0",
          "model_name": "LayoutModel",
          "state": {
            "_model_module": "@jupyter-widgets/base",
            "_model_module_version": "1.2.0",
            "_model_name": "LayoutModel",
            "_view_count": null,
            "_view_module": "@jupyter-widgets/base",
            "_view_module_version": "1.2.0",
            "_view_name": "LayoutView",
            "align_content": null,
            "align_items": null,
            "align_self": null,
            "border": null,
            "bottom": null,
            "display": null,
            "flex": null,
            "flex_flow": null,
            "grid_area": null,
            "grid_auto_columns": null,
            "grid_auto_flow": null,
            "grid_auto_rows": null,
            "grid_column": null,
            "grid_gap": null,
            "grid_row": null,
            "grid_template_areas": null,
            "grid_template_columns": null,
            "grid_template_rows": null,
            "height": null,
            "justify_content": null,
            "justify_items": null,
            "left": null,
            "margin": null,
            "max_height": null,
            "max_width": null,
            "min_height": null,
            "min_width": null,
            "object_fit": null,
            "object_position": null,
            "order": null,
            "overflow": null,
            "overflow_x": null,
            "overflow_y": null,
            "padding": null,
            "right": null,
            "top": null,
            "visibility": null,
            "width": null
          }
        },
        "be14f3c876354f89923e3315bc544b7a": {
          "model_module": "@jupyter-widgets/controls",
          "model_module_version": "1.5.0",
          "model_name": "HBoxModel",
          "state": {
            "_dom_classes": [],
            "_model_module": "@jupyter-widgets/controls",
            "_model_module_version": "1.5.0",
            "_model_name": "HBoxModel",
            "_view_count": null,
            "_view_module": "@jupyter-widgets/controls",
            "_view_module_version": "1.5.0",
            "_view_name": "HBoxView",
            "box_style": "",
            "children": [
              "IPY_MODEL_80a0cebcc245448882d0aab9cef5ab20",
              "IPY_MODEL_c55c02b6c3f748a89b092fec8cf918aa",
              "IPY_MODEL_14a3ed9532aa461b8b0fdadf6cb7723b"
            ],
            "layout": "IPY_MODEL_63d512567d54403d9f3ad10fffd902df"
          }
        },
        "bf79d8c6f88040b79ff355216aea5b5f": {
          "model_module": "@jupyter-widgets/controls",
          "model_module_version": "1.5.0",
          "model_name": "ProgressStyleModel",
          "state": {
            "_model_module": "@jupyter-widgets/controls",
            "_model_module_version": "1.5.0",
            "_model_name": "ProgressStyleModel",
            "_view_count": null,
            "_view_module": "@jupyter-widgets/base",
            "_view_module_version": "1.2.0",
            "_view_name": "StyleView",
            "bar_color": null,
            "description_width": ""
          }
        },
        "c3af1b97832b497f9427b6238a6e4668": {
          "model_module": "@jupyter-widgets/base",
          "model_module_version": "1.2.0",
          "model_name": "LayoutModel",
          "state": {
            "_model_module": "@jupyter-widgets/base",
            "_model_module_version": "1.2.0",
            "_model_name": "LayoutModel",
            "_view_count": null,
            "_view_module": "@jupyter-widgets/base",
            "_view_module_version": "1.2.0",
            "_view_name": "LayoutView",
            "align_content": null,
            "align_items": null,
            "align_self": null,
            "border": null,
            "bottom": null,
            "display": null,
            "flex": null,
            "flex_flow": null,
            "grid_area": null,
            "grid_auto_columns": null,
            "grid_auto_flow": null,
            "grid_auto_rows": null,
            "grid_column": null,
            "grid_gap": null,
            "grid_row": null,
            "grid_template_areas": null,
            "grid_template_columns": null,
            "grid_template_rows": null,
            "height": null,
            "justify_content": null,
            "justify_items": null,
            "left": null,
            "margin": null,
            "max_height": null,
            "max_width": null,
            "min_height": null,
            "min_width": null,
            "object_fit": null,
            "object_position": null,
            "order": null,
            "overflow": null,
            "overflow_x": null,
            "overflow_y": null,
            "padding": null,
            "right": null,
            "top": null,
            "visibility": null,
            "width": null
          }
        },
        "c55c02b6c3f748a89b092fec8cf918aa": {
          "model_module": "@jupyter-widgets/controls",
          "model_module_version": "1.5.0",
          "model_name": "FloatProgressModel",
          "state": {
            "_dom_classes": [],
            "_model_module": "@jupyter-widgets/controls",
            "_model_module_version": "1.5.0",
            "_model_name": "FloatProgressModel",
            "_view_count": null,
            "_view_module": "@jupyter-widgets/controls",
            "_view_module_version": "1.5.0",
            "_view_name": "ProgressView",
            "bar_style": "success",
            "description": "",
            "description_tooltip": null,
            "layout": "IPY_MODEL_fda0e084b37f49f8a5ab9dc3b46c260a",
            "max": 10,
            "min": 0,
            "orientation": "horizontal",
            "style": "IPY_MODEL_f39434a336774470b242525ecb0126d7",
            "value": 10
          }
        },
        "c5bc0f93f0be42efbe4f2f2b42b3537a": {
          "model_module": "@jupyter-widgets/base",
          "model_module_version": "1.2.0",
          "model_name": "LayoutModel",
          "state": {
            "_model_module": "@jupyter-widgets/base",
            "_model_module_version": "1.2.0",
            "_model_name": "LayoutModel",
            "_view_count": null,
            "_view_module": "@jupyter-widgets/base",
            "_view_module_version": "1.2.0",
            "_view_name": "LayoutView",
            "align_content": null,
            "align_items": null,
            "align_self": null,
            "border": null,
            "bottom": null,
            "display": null,
            "flex": null,
            "flex_flow": null,
            "grid_area": null,
            "grid_auto_columns": null,
            "grid_auto_flow": null,
            "grid_auto_rows": null,
            "grid_column": null,
            "grid_gap": null,
            "grid_row": null,
            "grid_template_areas": null,
            "grid_template_columns": null,
            "grid_template_rows": null,
            "height": null,
            "justify_content": null,
            "justify_items": null,
            "left": null,
            "margin": null,
            "max_height": null,
            "max_width": null,
            "min_height": null,
            "min_width": null,
            "object_fit": null,
            "object_position": null,
            "order": null,
            "overflow": null,
            "overflow_x": null,
            "overflow_y": null,
            "padding": null,
            "right": null,
            "top": null,
            "visibility": null,
            "width": null
          }
        },
        "d0b96f65736f4e8facf6a5283cbdc2ea": {
          "model_module": "@jupyter-widgets/controls",
          "model_module_version": "1.5.0",
          "model_name": "DescriptionStyleModel",
          "state": {
            "_model_module": "@jupyter-widgets/controls",
            "_model_module_version": "1.5.0",
            "_model_name": "DescriptionStyleModel",
            "_view_count": null,
            "_view_module": "@jupyter-widgets/base",
            "_view_module_version": "1.2.0",
            "_view_name": "StyleView",
            "description_width": ""
          }
        },
        "d16c8c1aa4bb46078e85aea40ad4154d": {
          "model_module": "@jupyter-widgets/controls",
          "model_module_version": "1.5.0",
          "model_name": "DescriptionStyleModel",
          "state": {
            "_model_module": "@jupyter-widgets/controls",
            "_model_module_version": "1.5.0",
            "_model_name": "DescriptionStyleModel",
            "_view_count": null,
            "_view_module": "@jupyter-widgets/base",
            "_view_module_version": "1.2.0",
            "_view_name": "StyleView",
            "description_width": ""
          }
        },
        "d378a2b2e6ef47ee8b1d37ba53fd03b1": {
          "model_module": "@jupyter-widgets/base",
          "model_module_version": "1.2.0",
          "model_name": "LayoutModel",
          "state": {
            "_model_module": "@jupyter-widgets/base",
            "_model_module_version": "1.2.0",
            "_model_name": "LayoutModel",
            "_view_count": null,
            "_view_module": "@jupyter-widgets/base",
            "_view_module_version": "1.2.0",
            "_view_name": "LayoutView",
            "align_content": null,
            "align_items": null,
            "align_self": null,
            "border": null,
            "bottom": null,
            "display": null,
            "flex": null,
            "flex_flow": null,
            "grid_area": null,
            "grid_auto_columns": null,
            "grid_auto_flow": null,
            "grid_auto_rows": null,
            "grid_column": null,
            "grid_gap": null,
            "grid_row": null,
            "grid_template_areas": null,
            "grid_template_columns": null,
            "grid_template_rows": null,
            "height": null,
            "justify_content": null,
            "justify_items": null,
            "left": null,
            "margin": null,
            "max_height": null,
            "max_width": null,
            "min_height": null,
            "min_width": null,
            "object_fit": null,
            "object_position": null,
            "order": null,
            "overflow": null,
            "overflow_x": null,
            "overflow_y": null,
            "padding": null,
            "right": null,
            "top": null,
            "visibility": null,
            "width": null
          }
        },
        "d637397bde784d5690cdba6c37ffb071": {
          "model_module": "@jupyter-widgets/controls",
          "model_module_version": "1.5.0",
          "model_name": "HTMLModel",
          "state": {
            "_dom_classes": [],
            "_model_module": "@jupyter-widgets/controls",
            "_model_module_version": "1.5.0",
            "_model_name": "HTMLModel",
            "_view_count": null,
            "_view_module": "@jupyter-widgets/controls",
            "_view_module_version": "1.5.0",
            "_view_name": "HTMLView",
            "description": "",
            "description_tooltip": null,
            "layout": "IPY_MODEL_c5bc0f93f0be42efbe4f2f2b42b3537a",
            "placeholder": "​",
            "style": "IPY_MODEL_e09ceacc5a8c440cbcecbd4094d35ce8",
            "value": "Testing: 100%"
          }
        },
        "d91bc6d8e6194d7ea56b67842309bfe8": {
          "model_module": "@jupyter-widgets/controls",
          "model_module_version": "1.5.0",
          "model_name": "DescriptionStyleModel",
          "state": {
            "_model_module": "@jupyter-widgets/controls",
            "_model_module_version": "1.5.0",
            "_model_name": "DescriptionStyleModel",
            "_view_count": null,
            "_view_module": "@jupyter-widgets/base",
            "_view_module_version": "1.2.0",
            "_view_name": "StyleView",
            "description_width": ""
          }
        },
        "e05dc61f3fff4f999578999e6532b486": {
          "model_module": "@jupyter-widgets/base",
          "model_module_version": "1.2.0",
          "model_name": "LayoutModel",
          "state": {
            "_model_module": "@jupyter-widgets/base",
            "_model_module_version": "1.2.0",
            "_model_name": "LayoutModel",
            "_view_count": null,
            "_view_module": "@jupyter-widgets/base",
            "_view_module_version": "1.2.0",
            "_view_name": "LayoutView",
            "align_content": null,
            "align_items": null,
            "align_self": null,
            "border": null,
            "bottom": null,
            "display": null,
            "flex": null,
            "flex_flow": null,
            "grid_area": null,
            "grid_auto_columns": null,
            "grid_auto_flow": null,
            "grid_auto_rows": null,
            "grid_column": null,
            "grid_gap": null,
            "grid_row": null,
            "grid_template_areas": null,
            "grid_template_columns": null,
            "grid_template_rows": null,
            "height": null,
            "justify_content": null,
            "justify_items": null,
            "left": null,
            "margin": null,
            "max_height": null,
            "max_width": null,
            "min_height": null,
            "min_width": null,
            "object_fit": null,
            "object_position": null,
            "order": null,
            "overflow": null,
            "overflow_x": null,
            "overflow_y": null,
            "padding": null,
            "right": null,
            "top": null,
            "visibility": null,
            "width": null
          }
        },
        "e09ceacc5a8c440cbcecbd4094d35ce8": {
          "model_module": "@jupyter-widgets/controls",
          "model_module_version": "1.5.0",
          "model_name": "DescriptionStyleModel",
          "state": {
            "_model_module": "@jupyter-widgets/controls",
            "_model_module_version": "1.5.0",
            "_model_name": "DescriptionStyleModel",
            "_view_count": null,
            "_view_module": "@jupyter-widgets/base",
            "_view_module_version": "1.2.0",
            "_view_name": "StyleView",
            "description_width": ""
          }
        },
        "e3f463fec85e456cb87ca1f223147331": {
          "model_module": "@jupyter-widgets/controls",
          "model_module_version": "1.5.0",
          "model_name": "HBoxModel",
          "state": {
            "_dom_classes": [],
            "_model_module": "@jupyter-widgets/controls",
            "_model_module_version": "1.5.0",
            "_model_name": "HBoxModel",
            "_view_count": null,
            "_view_module": "@jupyter-widgets/controls",
            "_view_module_version": "1.5.0",
            "_view_name": "HBoxView",
            "box_style": "",
            "children": [
              "IPY_MODEL_d637397bde784d5690cdba6c37ffb071",
              "IPY_MODEL_f55ddc0e846040af9129d110f58ff12f",
              "IPY_MODEL_4162fc2e10a54d90aeadd77096ea0e4a"
            ],
            "layout": "IPY_MODEL_691880541c034fca887d9824bb9d2d38"
          }
        },
        "f0fc68d67fdc4f48a5b30a08f86980fa": {
          "model_module": "@jupyter-widgets/base",
          "model_module_version": "1.2.0",
          "model_name": "LayoutModel",
          "state": {
            "_model_module": "@jupyter-widgets/base",
            "_model_module_version": "1.2.0",
            "_model_name": "LayoutModel",
            "_view_count": null,
            "_view_module": "@jupyter-widgets/base",
            "_view_module_version": "1.2.0",
            "_view_name": "LayoutView",
            "align_content": null,
            "align_items": null,
            "align_self": null,
            "border": null,
            "bottom": null,
            "display": null,
            "flex": null,
            "flex_flow": null,
            "grid_area": null,
            "grid_auto_columns": null,
            "grid_auto_flow": null,
            "grid_auto_rows": null,
            "grid_column": null,
            "grid_gap": null,
            "grid_row": null,
            "grid_template_areas": null,
            "grid_template_columns": null,
            "grid_template_rows": null,
            "height": null,
            "justify_content": null,
            "justify_items": null,
            "left": null,
            "margin": null,
            "max_height": null,
            "max_width": null,
            "min_height": null,
            "min_width": null,
            "object_fit": null,
            "object_position": null,
            "order": null,
            "overflow": null,
            "overflow_x": null,
            "overflow_y": null,
            "padding": null,
            "right": null,
            "top": null,
            "visibility": null,
            "width": null
          }
        },
        "f39434a336774470b242525ecb0126d7": {
          "model_module": "@jupyter-widgets/controls",
          "model_module_version": "1.5.0",
          "model_name": "ProgressStyleModel",
          "state": {
            "_model_module": "@jupyter-widgets/controls",
            "_model_module_version": "1.5.0",
            "_model_name": "ProgressStyleModel",
            "_view_count": null,
            "_view_module": "@jupyter-widgets/base",
            "_view_module_version": "1.2.0",
            "_view_name": "StyleView",
            "bar_color": null,
            "description_width": ""
          }
        },
        "f55ddc0e846040af9129d110f58ff12f": {
          "model_module": "@jupyter-widgets/controls",
          "model_module_version": "1.5.0",
          "model_name": "FloatProgressModel",
          "state": {
            "_dom_classes": [],
            "_model_module": "@jupyter-widgets/controls",
            "_model_module_version": "1.5.0",
            "_model_name": "FloatProgressModel",
            "_view_count": null,
            "_view_module": "@jupyter-widgets/controls",
            "_view_module_version": "1.5.0",
            "_view_name": "ProgressView",
            "bar_style": "success",
            "description": "",
            "description_tooltip": null,
            "layout": "IPY_MODEL_ae256a770ab348f987ed5c4bb6aa426c",
            "max": 10,
            "min": 0,
            "orientation": "horizontal",
            "style": "IPY_MODEL_bf79d8c6f88040b79ff355216aea5b5f",
            "value": 10
          }
        },
        "fcd279ef9b2647c68f85015bc242d5dd": {
          "model_module": "@jupyter-widgets/controls",
          "model_module_version": "1.5.0",
          "model_name": "DescriptionStyleModel",
          "state": {
            "_model_module": "@jupyter-widgets/controls",
            "_model_module_version": "1.5.0",
            "_model_name": "DescriptionStyleModel",
            "_view_count": null,
            "_view_module": "@jupyter-widgets/base",
            "_view_module_version": "1.2.0",
            "_view_name": "StyleView",
            "description_width": ""
          }
        },
        "fda0e084b37f49f8a5ab9dc3b46c260a": {
          "model_module": "@jupyter-widgets/base",
          "model_module_version": "1.2.0",
          "model_name": "LayoutModel",
          "state": {
            "_model_module": "@jupyter-widgets/base",
            "_model_module_version": "1.2.0",
            "_model_name": "LayoutModel",
            "_view_count": null,
            "_view_module": "@jupyter-widgets/base",
            "_view_module_version": "1.2.0",
            "_view_name": "LayoutView",
            "align_content": null,
            "align_items": null,
            "align_self": null,
            "border": null,
            "bottom": null,
            "display": null,
            "flex": null,
            "flex_flow": null,
            "grid_area": null,
            "grid_auto_columns": null,
            "grid_auto_flow": null,
            "grid_auto_rows": null,
            "grid_column": null,
            "grid_gap": null,
            "grid_row": null,
            "grid_template_areas": null,
            "grid_template_columns": null,
            "grid_template_rows": null,
            "height": null,
            "justify_content": null,
            "justify_items": null,
            "left": null,
            "margin": null,
            "max_height": null,
            "max_width": null,
            "min_height": null,
            "min_width": null,
            "object_fit": null,
            "object_position": null,
            "order": null,
            "overflow": null,
            "overflow_x": null,
            "overflow_y": null,
            "padding": null,
            "right": null,
            "top": null,
            "visibility": null,
            "width": null
          }
        }
      }
    }
  },
  "nbformat": 4,
  "nbformat_minor": 0
}
